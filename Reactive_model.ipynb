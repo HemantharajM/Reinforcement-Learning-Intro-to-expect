{
 "cells": [
  {
   "cell_type": "markdown",
   "metadata": {},
   "source": [
    "#### Multi-Agent Reactive Planning"
   ]
  },
  {
   "cell_type": "code",
   "execution_count": 1,
   "metadata": {
    "collapsed": true
   },
   "outputs": [],
   "source": [
    "import sys\n",
    "import matplotlib.pyplot as plt\n",
    "import numpy as np\n",
    "import torch\n",
    "from torch import autograd\n",
    "from torch.utils.data import DataLoader\n",
    "from torch.nn.parameter import Parameter\n",
    "import torch.nn.functional as F"
   ]
  },
  {
   "cell_type": "code",
   "execution_count": 2,
   "metadata": {
    "collapsed": true
   },
   "outputs": [],
   "source": [
    "import random\n",
    "import queue"
   ]
  },
  {
   "cell_type": "markdown",
   "metadata": {},
   "source": [
    "#### Import the Dataset"
   ]
  },
  {
   "cell_type": "code",
   "execution_count": 3,
   "metadata": {
    "collapsed": true
   },
   "outputs": [],
   "source": [
    "train = []\n",
    "with np.load('dataset/Train_data/train_4_data.npz',mmap_mode='r') as f:\n",
    "    train = f['arr_0']"
   ]
  },
  {
   "cell_type": "code",
   "execution_count": 4,
   "metadata": {
    "collapsed": true
   },
   "outputs": [],
   "source": [
    "test = []\n",
    "with np.load('dataset/Test_dat/test_4_data.npz',mmap_mode='r') as f:\n",
    "    test = f['arr_0']"
   ]
  },
  {
   "cell_type": "code",
   "execution_count": 5,
   "metadata": {
    "collapsed": true
   },
   "outputs": [],
   "source": [
    "train_data = []\n",
    "for i in train:\n",
    "    env = -1*(i[0] == 0.0) + 1.0\n",
    "    goal = (i[0] == 0.5) + 0.0\n",
    "    agent = (i[1] == 1.0) * -1\n",
    "    agent[i[2][0]][i[2][1]] = 0.0\n",
    "    env = env + agent\n",
    "    agent[i[2][0]][i[2][1]] = 1.0\n",
    "    \n",
    "    domain = np.array([env,goal,agent])\n",
    "    \n",
    "    \n",
    "    train_data.append([torch.tensor(domain),torch.tensor(i[2]),torch.tensor(i[3])])"
   ]
  },
  {
   "cell_type": "code",
   "execution_count": 6,
   "metadata": {
    "collapsed": true
   },
   "outputs": [],
   "source": [
    "test_data = []\n",
    "for i in test:\n",
    "    env = -1*(i[0] == 0.0) + 1.0\n",
    "    goal = (i[0] == 0.5) + 0.0\n",
    "    agent = (i[1] == 1.0) * -1\n",
    "    agent[i[2][0]][i[2][1]] = 0.0\n",
    "    env = env + agent\n",
    "    agent[i[2][0]][i[2][1]] = 1.0\n",
    "    \n",
    "    domain = np.array([env,goal,agent])\n",
    "    \n",
    "    \n",
    "    test_data.append([torch.tensor(domain),torch.tensor(i[2]),torch.tensor(i[3])])"
   ]
  },
  {
   "cell_type": "code",
   "execution_count": 7,
   "metadata": {
    "collapsed": true
   },
   "outputs": [],
   "source": [
    "train_dl = DataLoader(train_data,batch_size=128,shuffle=False)\n",
    "test_dl = DataLoader(test_data,batch_size=128,shuffle=False)"
   ]
  },
  {
   "cell_type": "markdown",
   "metadata": {},
   "source": [
    "#### Model"
   ]
  },
  {
   "cell_type": "code",
   "execution_count": 8,
   "metadata": {
    "collapsed": true
   },
   "outputs": [],
   "source": [
    "class MA_PR(torch.nn.Module):\n",
    "    def __init__(self):\n",
    "        super(MA_PR, self).__init__()\n",
    "        \n",
    "        self.l1 = torch.nn.Conv2d(\n",
    "            in_channels=3,\n",
    "            out_channels=10,\n",
    "            kernel_size=(3, 3),\n",
    "            stride=1,\n",
    "            padding=1,\n",
    "            bias=True)\n",
    "        \n",
    "        self.l2 = torch.nn.Conv2d(\n",
    "            in_channels=10,\n",
    "            out_channels=20,\n",
    "            kernel_size=(3, 3),\n",
    "            stride=1,\n",
    "            padding=1,\n",
    "            bias=True)\n",
    "        \n",
    "        self.l3 = torch.nn.MaxPool2d(2,2)\n",
    "        \n",
    "        self.l4 = torch.nn.Conv2d(\n",
    "            in_channels=20,\n",
    "            out_channels=40,\n",
    "            kernel_size=(3, 3),\n",
    "            stride=1,\n",
    "            padding=1,\n",
    "            bias=True)\n",
    "        self.l5 = torch.nn.Conv2d(\n",
    "            in_channels=40,\n",
    "            out_channels=80,\n",
    "            kernel_size=(3, 3),\n",
    "            stride=1,\n",
    "            padding=1,\n",
    "            bias=True)\n",
    "        \n",
    "        self.l6 = torch.nn.MaxPool2d(2,2)\n",
    "        \n",
    "        self.fc1 = torch.nn.Linear(320,320)\n",
    "        \n",
    "        self.fc2 = torch.nn.Linear(320,120)\n",
    "        \n",
    "        self.fc3 = torch.nn.Linear(120,60)\n",
    "        \n",
    "        self.fc4 = torch.nn.Linear(60,30)\n",
    "        \n",
    "        self.fc5 = torch.nn.Linear(30,5)\n",
    "        \n",
    "        self.sm = torch.nn.Softmax(dim=1)\n",
    "\n",
    "    def forward(self, X, S1, S2):\n",
    "        \n",
    "        X = F.relu(self.l1(X))\n",
    "        X = F.relu(self.l2(X))\n",
    "        \n",
    "        X = self.l3(X)\n",
    "        \n",
    "        X = F.relu(self.l4(X))\n",
    "        X = F.relu(self.l5(X))\n",
    "        \n",
    "        X = self.l6(X)\n",
    "        \n",
    "        X = X.view(-1,320)\n",
    "        \n",
    "        X = F.relu(self.fc1(X))\n",
    "        X = F.relu(self.fc2(X))\n",
    "        X = F.relu(self.fc3(X))\n",
    "        X = F.relu(self.fc4(X))\n",
    "        \n",
    "        logits = self.fc5(X)\n",
    "       \n",
    "        return logits, self.sm(logits)"
   ]
  },
  {
   "cell_type": "code",
   "execution_count": 9,
   "metadata": {
    "collapsed": true
   },
   "outputs": [],
   "source": [
    "model = MA_PR()"
   ]
  },
  {
   "cell_type": "code",
   "execution_count": 10,
   "metadata": {
    "collapsed": true
   },
   "outputs": [],
   "source": [
    "model.load_state_dict(torch.load('./trained/MA_PR_8x8.pth',map_location='cpu'))"
   ]
  },
  {
   "cell_type": "markdown",
   "metadata": {},
   "source": [
    "#### Loss"
   ]
  },
  {
   "cell_type": "code",
   "execution_count": 11,
   "metadata": {
    "collapsed": true
   },
   "outputs": [],
   "source": [
    "Criterion = torch.nn.CrossEntropyLoss()"
   ]
  },
  {
   "cell_type": "markdown",
   "metadata": {},
   "source": [
    "#### Optimizer"
   ]
  },
  {
   "cell_type": "code",
   "execution_count": 12,
   "metadata": {
    "collapsed": true
   },
   "outputs": [],
   "source": [
    "optimizer = torch.optim.RMSprop(model.parameters(),lr=0.001)"
   ]
  },
  {
   "cell_type": "markdown",
   "metadata": {},
   "source": [
    "#### Training"
   ]
  },
  {
   "cell_type": "code",
   "execution_count": 15,
   "metadata": {},
   "outputs": [
    {
     "name": "stdout",
     "output_type": "stream",
     "text": [
      "Epoch:0\n",
      "Average_loss :0.024226067512027598\n",
      "Accuracy : 0.9940451893293635\n"
     ]
    }
   ],
   "source": [
    "N_Epoch = 1\n",
    "\n",
    "for i in range(N_Epoch):\n",
    "    running_loss = 0.0\n",
    "    correct = 0\n",
    "    \n",
    "    model.eval()\n",
    "    \n",
    "    train_iter = iter(train_dl)\n",
    "    \n",
    "    for j in range(326):\n",
    "    \n",
    "        X,S,label = next(train_iter)\n",
    "        \n",
    "        \n",
    "        output, prediction = model(X.float(),S[:,0],S[:,1])\n",
    "        \n",
    "        loss = Criterion(output,label)\n",
    "        \n",
    "        running_loss += loss.item()\n",
    "        \n",
    "        _,index = torch.max(output,dim=1)\n",
    "        \n",
    "        correct += torch.eq(index, label).sum().item()\n",
    "    \n",
    "    print(f\"Epoch:{i}\")\n",
    "    print(f'Average_loss :{running_loss / 326}')\n",
    "    print(f\"Accuracy : {correct / len(train_data)}\")"
   ]
  },
  {
   "cell_type": "markdown",
   "metadata": {},
   "source": [
    "#### Testing"
   ]
  },
  {
   "cell_type": "code",
   "execution_count": 19,
   "metadata": {},
   "outputs": [
    {
     "name": "stdout",
     "output_type": "stream",
     "text": [
      "Epoch:0\n",
      "Average_loss :4.49163005789932\n",
      "Accuracy : 0.7019482252468642\n"
     ]
    }
   ],
   "source": [
    "N_Epoch = 1\n",
    "\n",
    "for i in range(N_Epoch):\n",
    "    running_loss = 0.0\n",
    "    correct = 0\n",
    "    \n",
    "    model.eval()\n",
    "    \n",
    "    test_iter = iter(test_dl)\n",
    "    \n",
    "    for j in range(147):\n",
    "    \n",
    "        X,S,label = next(test_iter)\n",
    "        \n",
    "        \n",
    "        output, prediction = model(X.float(),S[:,0],S[:,1])\n",
    "        \n",
    "        loss = Criterion(output,label)\n",
    "        \n",
    "        running_loss += loss.item()\n",
    "        \n",
    "        _,index = torch.max(output,dim=1)\n",
    "        \n",
    "        correct += torch.eq(index, label).sum().item()\n",
    "    \n",
    "    print(f\"Epoch:{i}\")\n",
    "    print(f'Average_loss :{running_loss / 147}')\n",
    "    print(f\"Accuracy : {correct / len(test_data)}\")"
   ]
  },
  {
   "cell_type": "markdown",
   "metadata": {},
   "source": [
    "#### Check the goal accuracy for 8x8 data"
   ]
  },
  {
   "cell_type": "code",
   "execution_count": 20,
   "metadata": {
    "collapsed": true
   },
   "outputs": [],
   "source": [
    "def action(S,val,obst,imsize):\n",
    "    if val == 0 and S[1].item() > 0:\n",
    "        if obst[S[0].item()][S[1].item()-1] == 1.0 :\n",
    "            return torch.tensor([S[0].item(),S[1].item()-1]), False\n",
    "        else :\n",
    "            return torch.tensor([S[0].item(),S[1].item()]), True\n",
    "    elif val == 1 and S[0].item() > 0:\n",
    "        if obst[S[0].item()-1][S[1].item()] == 1.0 :\n",
    "            return torch.tensor([S[0].item()-1,S[1].item()]), False\n",
    "        else :\n",
    "            return torch.tensor([S[0].item(),S[1].item()]), True\n",
    "    elif val == 2 and S[1].item() < (imsize -1):\n",
    "        if obst[S[0].item()][S[1].item()+1] == 1.0 :\n",
    "            return torch.tensor([S[0].item(),S[1].item()+1]), False\n",
    "        else:\n",
    "            return torch.tensor([S[0].item(),S[1].item()]), True\n",
    "    elif val == 3 and S[0].item() < (imsize -1):\n",
    "        if obst[S[0].item()+1][S[1].item()] == 1.0 :\n",
    "            return torch.tensor([S[0].item()+1,S[1].item()]), False\n",
    "        else:\n",
    "            return torch.tensor([S[0].item(),S[1].item()]), True\n",
    "    else :\n",
    "        return S, True"
   ]
  },
  {
   "cell_type": "code",
   "execution_count": 21,
   "metadata": {
    "collapsed": true
   },
   "outputs": [],
   "source": [
    "def rand_play(X,a_s,imsize,obst):\n",
    "    #find possible action\n",
    "    Action = []\n",
    "    \n",
    "    if (a_s[1] -1) >= 0:\n",
    "        if X[0][a_s[0]][a_s[1]-1] and (not X[2][a_s[0]][a_s[1]-1]):\n",
    "            Action.append(0)\n",
    "    if (a_s[0] -1 ) >= 0:\n",
    "        if X[0][a_s[0]-1][a_s[1]] and (not X[2][a_s[0]-1][a_s[1]]):\n",
    "            Action.append(1)\n",
    "    if (a_s[1] +1 ) < imsize:\n",
    "        if X[0][a_s[0]][a_s[1]+1] and (not X[2][a_s[0]][a_s[1]+1]):\n",
    "            Action.append(2)\n",
    "    if (a_s[0] + 1) < imsize:    \n",
    "        if X[0][a_s[0]+1][a_s[1]] and (not X[2][a_s[0]+1][a_s[1]]):\n",
    "            Action.append(3)\n",
    "    \n",
    "    if len(Action) != 0:\n",
    "        act = np.random.choice(Action)\n",
    "        new_state,_ = action(a_s,act,obst,imsize)\n",
    "    else:\n",
    "        new_state = a_s\n",
    "    \n",
    "    return new_state"
   ]
  },
  {
   "cell_type": "code",
   "execution_count": 22,
   "metadata": {
    "collapsed": true
   },
   "outputs": [],
   "source": [
    "def goal_reach_check(agent_state,goal,goal_count,goal_reached):\n",
    "    token = 0\n",
    "    v = 0\n",
    "    for z in goal:\n",
    "        #check goal is already reached\n",
    "        if goal_reached[v] == 0:\n",
    "            #if goal is not reached and compare with agent state\n",
    "            if agent_state[0].item() == z[0] and agent_state[1].item() == z[1]:\n",
    "                goal_reached[v] = 1\n",
    "                goal_count += 1\n",
    "                token = 1\n",
    "        v = v+1    \n",
    "    return token,goal_count,goal_reached"
   ]
  },
  {
   "cell_type": "code",
   "execution_count": 23,
   "metadata": {
    "collapsed": true
   },
   "outputs": [],
   "source": [
    "def agent_env(X,agent_state,imsize,avoid_goal,token):\n",
    "   \n",
    "    return X.reshape([1,3,imsize,imsize]).float()"
   ]
  },
  {
   "cell_type": "code",
   "execution_count": 42,
   "metadata": {
    "collapsed": true
   },
   "outputs": [],
   "source": [
    "def agent_prediction(model,X,whole_traj_act,goal,imsize,max_random_play):\n",
    "    #convert specific domain to generic domains\n",
    "    X = abs(X)\n",
    "    \n",
    "    model.eval() \n",
    "    correct_goal,total_goal,traj_step_error,goal_count = 0.0,0.0,0.0,0.0\n",
    "    \n",
    "    #store agent initial state\n",
    "    inter = np.where(X[2] == 1.0)\n",
    "    agent_state = np.column_stack([inter[0],inter[1]])\n",
    "    n_agent = agent_state.shape[0]\n",
    "    \n",
    "    agent_traj = [[agent_state[i].copy()] for i in range(n_agent)]\n",
    "    \n",
    "    #store number agent still playing\n",
    "    current_play_agent = [1.0 for i in range(n_agent)]\n",
    "    \n",
    "    current_play_agent = np.array(current_play_agent)\n",
    "    \n",
    "    #keep which is reached\n",
    "    goal_reached = np.zeros([goal.size])\n",
    "    \n",
    "    #store each agent random play chances\n",
    "    random_play = np.zeros(n_agent)\n",
    "    max_random_play = max_random_play\n",
    "    \n",
    "    play = 0\n",
    "    while current_play_agent.sum() != 0.0 and play < 20:\n",
    "        play += 1\n",
    "        for i in range(n_agent):\n",
    "            \n",
    "            if current_play_agent[i] == 1.0:  \n",
    "                Input = agent_env(X.clone(),agent_state[i],imsize,[],1)\n",
    "                output,prediction= model(Input,torch.tensor(agent_state[i][0]),torch.tensor(agent_state[i][1]))\n",
    "                _,index = torch.max(output,dim=1)\n",
    "              #  print(agent_state[i],index)\n",
    "                #check agent (index = 4) means stop planning\n",
    "                if index == 4:\n",
    "                    #token whether agent reach goal or not\n",
    "                    token,goal_count,goal_reached = goal_reach_check(agent_state[i],goal,goal_count,goal_reached)\n",
    "                    if token:\n",
    "                        current_play_agent[i] = 0.0\n",
    "                    else:\n",
    "                        if random_play[i] >= max_random_play:\n",
    "                            current_play_agent[i] = 0.0\n",
    "                        else:\n",
    "                            X[2][agent_state[i][0]][agent_state[i][1]] = 0.0\n",
    "                            agent_state[i] =rand_play(X,agent_state[i].copy(),imsize)\n",
    "                            random_play[i] += 1\n",
    "                            X[2][agent_state[i][0]][agent_state[i][1]] = 1.0\n",
    "                            agent_traj[i].append(agent_state[i].copy())\n",
    "    \n",
    "                else:\n",
    "                    \n",
    "                    agent_new_state,obst = action(S=agent_state[i],val=index,imsize=imsize,obst=Input[0,0,:,:])\n",
    "                    \n",
    "                    if obst:\n",
    "                        current_play_agent[i] = 0.0\n",
    "                    #    print(1)\n",
    "                        continue\n",
    "                    X[2][agent_state[i][0]][agent_state[i][1]] = 0.0\n",
    "                    agent_state[i] = agent_new_state\n",
    "                    #check agent reach any obstacle and push it into stop\n",
    "                    i_1 = agent_state[i][0]\n",
    "                    i_2 = agent_state[i][1]\n",
    "                    if X[0][i_1][i_2].item() == 0.0 and X[1][i_1][i_2].item() == 0.0:\n",
    "                        print(2)\n",
    "                        current_play_agent[i] = 0.0\n",
    "                        \n",
    "                    X[2][agent_state[i][0]][agent_state[i][1]] = 1.0\n",
    "                    agent_traj[i].append(agent_state[i].copy())\n",
    "                    \n",
    "                    #stop agent which moves back and forward two on the goal\n",
    "                    if len(agent_traj[i]) > 3 and (agent_traj[i][-1] == agent_traj[i][-3]).sum() == 2 and (agent_traj[i][-2] == agent_traj[i][-4]).sum() == 2:\n",
    "                        \n",
    "                        inter = agent_traj[i][-1]\n",
    "                        token,goal_count,goal_reached = goal_reach_check(inter,goal,goal_count,goal_reached)\n",
    "                        if token:\n",
    "                           # print(3)\n",
    "                            current_play_agent[i] = 0.0\n",
    "                        else:     \n",
    "                            inter = agent_traj[i][-2]\n",
    "                            token,goal_count,goal_reached = goal_reach_check(inter,goal,goal_count,goal_reached)\n",
    "                            if token:\n",
    "                              #  print(4)\n",
    "                                current_play_agent[i] = 0.0\n",
    "                                agent_traj[i].pop(-1)\n",
    "                            else:\n",
    "                                if random_play[i] < max_random_play:\n",
    "                                    X[2][agent_state[i][0]][agent_state[i][1]] = 0.0\n",
    "                                    \n",
    "                                    agent_state[i] =rand_play(X,agent_state[i].copy(),imsize)\n",
    "                                    random_play[i] += 1\n",
    "                                    X[2][agent_state[i][0]][agent_state[i][1]] = 1.0\n",
    "                                    agent_traj[i].append(agent_state[i].copy())\n",
    "                                else:\n",
    "                                  #  print(5)\n",
    "                                    current_play_agent[i] = 0.0\n",
    "                    \n",
    "    for j in range(len(whole_traj_act)):\n",
    "        inter =  whole_traj_act[j][0][0].numpy() \n",
    "        for i in range(len(agent_traj)):\n",
    "            if inter[0] == agent_traj[i][0][0] and inter[1] == agent_traj[i][0][1]:\n",
    "                actual_len = len(agent_traj[i])\n",
    "                pred_len = len(whole_traj_act[j][0])\n",
    "                traj_step_error += (abs(pred_len - actual_len))\n",
    "    \n",
    "    \n",
    "    correct_goal = goal_count\n",
    "    \n",
    "    if n_agent > len(goal):\n",
    "        total_goal = len(goal)\n",
    "    else:\n",
    "        total_goal =  n_agent\n",
    "        \n",
    "    traj_step = -1000\n",
    "    for i in agent_traj:\n",
    "        if len(i) > traj_step:\n",
    "            traj_step = len(i)\n",
    "    \n",
    "    return correct_goal,total_goal,(traj_step),agent_traj"
   ]
  },
  {
   "cell_type": "code",
   "execution_count": 43,
   "metadata": {
    "collapsed": true
   },
   "outputs": [],
   "source": [
    "def visualization(dom,whole_traj_act,traj):\n",
    "    fig, ax = plt.subplots()\n",
    "    implot = plt.imshow(dom, cmap=\"Greys_r\")\n",
    "\n",
    "    opti = []\n",
    "    for i in whole_traj_act:\n",
    "        opti.append(i[0])\n",
    "\n",
    "    for i in opti:\n",
    "        opti_arr =  []\n",
    "        for j in i:\n",
    "            opti_arr.append([j[0].item(),j[1].item()])\n",
    "\n",
    "        opti_ar = np.array(opti_arr)\n",
    "        ax.plot(opti_ar[:,1], opti_ar[:,0], c='b')\n",
    "\n",
    "    start = []\n",
    "    for i in traj:\n",
    "        start.append(i[0])\n",
    "\n",
    "    #start = np.array(start)\n",
    "    for i in start:\n",
    "        ax.plot(i[1], i[0], '-s')\n",
    "\n",
    "    start = []\n",
    "    for i in traj:\n",
    "        path = []\n",
    "        for j in i:\n",
    "            path.append(j)\n",
    "\n",
    "        path = np.array(path)\n",
    "        ax.plot(path[:, 1], path[:, 0], '-X', c='r')\n",
    "\n",
    " #   for i in goal:\n",
    " #       ax.plot(i[1], i[0], '-s')\n",
    "    legend = ax.legend(loc='upper right', shadow=False)\n",
    "#    for label in legend.get_texts():\n",
    "#        label.set_fontsize('x-small')  # the legend text size\n",
    "#    for label in legend.get_lines():\n",
    "#        label.set_linewidth(0.5)  # the legend line width\n",
    "    plt.draw()\n",
    "    plt.show()"
   ]
  },
  {
   "cell_type": "markdown",
   "metadata": {},
   "source": [
    "#### Training Goal accuracy"
   ]
  },
  {
   "cell_type": "code",
   "execution_count": 46,
   "metadata": {},
   "outputs": [
    {
     "name": "stdout",
     "output_type": "stream",
     "text": [
      "Goal_accuray: 0.3198496240601504\n",
      "2127.0 6650.0\n",
      "Average_Step_error_in_each_domain : 5.2246575342465755\n",
      "19070.0 3650.0\n"
     ]
    }
   ],
   "source": [
    "correct, traj_step, total,total_env = 0.0,0.0,0.0,0.0\n",
    "\n",
    "X,S,label = train_data[0].copy()\n",
    "\n",
    "prev_env = X.clone()\n",
    "\n",
    "whole_traj_act = []\n",
    "\n",
    "Trajectory = [S]\n",
    "Action  = [label]\n",
    "\n",
    "go = np.where(X[1] == 1.0) \n",
    "goal = np.column_stack([go[0],go[1]])\n",
    "\n",
    "end = len(train_data)\n",
    "\n",
    "\n",
    "for i in range(1,end):\n",
    "    X,S,label = train_data[i].copy()\n",
    "    \n",
    "    new_env = X.clone()\n",
    "    \n",
    "   \n",
    "    if (new_env[0] - prev_env[0]).sum() == 0.0:\n",
    "\n",
    "        if label != 4:\n",
    "            Trajectory.append(S)\n",
    "            Action.append(label)\n",
    "        else:\n",
    "            Trajectory.append(S)\n",
    "            Action.append(label)\n",
    "            whole_traj_act.append([Trajectory,Action])\n",
    "            Trajectory = []\n",
    "            Action = []\n",
    "    else :\n",
    "        #call the function with prev_new and whole traj act\n",
    "        total_env += 1\n",
    "        correct_goal,total_goal, traj_length,traj = agent_prediction(model,prev_env.clone(),whole_traj_act,goal,8,0)\n",
    "        \n",
    "        \n",
    "\n",
    "        total += total_goal\n",
    "\n",
    "        correct += correct_goal\n",
    "        traj_step += traj_length\n",
    "        \n",
    "        prev_env = new_env.clone()\n",
    "        \n",
    "        \n",
    "        whole_traj_act = []\n",
    "        go = np.where(prev_env[1] == 1.0) \n",
    "        goal = np.column_stack([go[0],go[1]])\n",
    "        \n",
    "        \n",
    "print(f'Goal_accuray: {correct /total}')\n",
    "print(correct,total)\n",
    "print(f'Average_Step_error_in_each_domain : {traj_step/total_env}')\n",
    "print(traj_step,total_env)"
   ]
  },
  {
   "cell_type": "markdown",
   "metadata": {},
   "source": [
    "#### Testing goal accuracy"
   ]
  },
  {
   "cell_type": "code",
   "execution_count": 48,
   "metadata": {},
   "outputs": [
    {
     "name": "stdout",
     "output_type": "stream",
     "text": [
      "Goal_accuray: 0.1773138832997988\n",
      "705.0 3976.0\n",
      "Average_Step_error_in_each_domain : 4.147526501766785\n",
      "4695.0 1132.0\n"
     ]
    }
   ],
   "source": [
    "correct, traj_step, total,total_env = 0.0,0.0,0.0,0.0\n",
    "\n",
    "X,S,label = test_data[0].copy()\n",
    "\n",
    "prev_env = X.clone()\n",
    "\n",
    "whole_traj_act = []\n",
    "\n",
    "Trajectory = [S]\n",
    "Action  = [label]\n",
    "\n",
    "go = np.where(X[1] == 1.0) \n",
    "goal = np.column_stack([go[0],go[1]])\n",
    "\n",
    "end = len(test_data)\n",
    "\n",
    "\n",
    "for i in range(1,end):\n",
    "    X,S,label = test_data[i].copy()\n",
    "    \n",
    "    new_env = X.clone()\n",
    "    \n",
    "   \n",
    "    if (new_env[0] - prev_env[0]).sum() == 0.0:\n",
    "\n",
    "        if label != 4:\n",
    "            Trajectory.append(S)\n",
    "            Action.append(label)\n",
    "        else:\n",
    "            Trajectory.append(S)\n",
    "            Action.append(label)\n",
    "            whole_traj_act.append([Trajectory,Action])\n",
    "            Trajectory = []\n",
    "            Action = []\n",
    "    else :\n",
    "        #call the function with prev_new and whole traj act\n",
    "        total_env += 1\n",
    "        correct_goal,total_goal, traj_length,traj = agent_prediction(model,prev_env.clone(),whole_traj_act,goal,8,0)\n",
    "        \n",
    "        \n",
    "\n",
    "        total += total_goal\n",
    "\n",
    "        correct += correct_goal\n",
    "        traj_step += traj_length\n",
    "        \n",
    "        prev_env = new_env.clone()\n",
    "        \n",
    "        \n",
    "        whole_traj_act = []\n",
    "        go = np.where(prev_env[1] == 1.0) \n",
    "        goal = np.column_stack([go[0],go[1]])\n",
    "        \n",
    "        \n",
    "print(f'Goal_accuray: {correct /total}')\n",
    "print(correct,total)\n",
    "print(f'Average_Step_error_in_each_domain : {traj_step/total_env}')\n",
    "print(traj_step,total_env)"
   ]
  },
  {
   "cell_type": "code",
   "execution_count": 47,
   "metadata": {},
   "outputs": [
    {
     "name": "stderr",
     "output_type": "stream",
     "text": [
      "C:\\Users\\Welcome\\Anaconda3\\lib\\site-packages\\matplotlib\\axes\\_axes.py:545: UserWarning: No labelled objects found. Use label='...' kwarg on individual plots.\n",
      "  warnings.warn(\"No labelled objects found. \"\n"
     ]
    },
    {
     "data": {
      "image/png": "[encoded data removed]",
      "text/plain": [
       "<matplotlib.figure.Figure at 0xdb11e06748>"
      ]
     },
     "metadata": {},
     "output_type": "display_data"
    },
    {
     "name": "stdout",
     "output_type": "stream",
     "text": [
      "11 1.0 4 6\n"
     ]
    },
    {
     "data": {
      "image/png": "[encoded data removed]",
      "text/plain": [
       "<matplotlib.figure.Figure at 0xdb1b7e0860>"
      ]
     },
     "metadata": {},
     "output_type": "display_data"
    },
    {
     "name": "stdout",
     "output_type": "stream",
     "text": [
      "[array([1, 4], dtype=int64), array([1, 3], dtype=int64), array([1, 2], dtype=int64), array([1, 1], dtype=int64), array([1, 0], dtype=int64)]->End\n",
      "[array([1, 7], dtype=int64), array([1, 6], dtype=int64), array([1, 5], dtype=int64)]->End\n",
      "[array([2, 2], dtype=int64), array([2, 1], dtype=int64), array([2, 0], dtype=int64)]->End\n",
      "[array([5, 7], dtype=int64), array([5, 6], dtype=int64)]->End\n",
      "[array([7, 5], dtype=int64), array([7, 4], dtype=int64), array([7, 3], dtype=int64), array([7, 2], dtype=int64), array([7, 1], dtype=int64), array([7, 0], dtype=int64)]->End\n",
      "[array([7, 6], dtype=int64)]->End\n"
     ]
    },
    {
     "data": {
      "image/png": "[encoded data removed]",
      "text/plain": [
       "<matplotlib.figure.Figure at 0xdb18b73f60>"
      ]
     },
     "metadata": {},
     "output_type": "display_data"
    },
    {
     "name": "stdout",
     "output_type": "stream",
     "text": [
      "28 2.0 4 5\n"
     ]
    },
    {
     "data": {
      "image/png": "[encoded data removed]",
      "text/plain": [
       "<matplotlib.figure.Figure at 0xdb14f879e8>"
      ]
     },
     "metadata": {},
     "output_type": "display_data"
    },
    {
     "name": "stdout",
     "output_type": "stream",
     "text": [
      "[array([0, 0], dtype=int64)]->End\n",
      "[array([1, 3], dtype=int64), array([1, 2], dtype=int64), array([1, 1], dtype=int64), array([1, 0], dtype=int64)]->End\n",
      "[array([5, 7], dtype=int64), array([5, 6], dtype=int64), array([5, 5], dtype=int64), array([5, 4], dtype=int64), array([4, 4], dtype=int64)]->End\n",
      "[array([7, 3], dtype=int64), array([7, 2], dtype=int64), array([7, 1], dtype=int64), array([7, 0], dtype=int64)]->End\n"
     ]
    },
    {
     "data": {
      "image/png": "[encoded data removed]",
      "text/plain": [
       "<matplotlib.figure.Figure at 0xdb144ecc50>"
      ]
     },
     "metadata": {},
     "output_type": "display_data"
    },
    {
     "name": "stdout",
     "output_type": "stream",
     "text": [
      "44 1.0 4 2\n"
     ]
    },
    {
     "data": {
      "image/png": "[encoded data removed]",
      "text/plain": [
       "<matplotlib.figure.Figure at 0xdb1464dcc0>"
      ]
     },
     "metadata": {},
     "output_type": "display_data"
    },
    {
     "name": "stdout",
     "output_type": "stream",
     "text": [
      "[array([2, 4], dtype=int64)]->End\n",
      "[array([3, 6], dtype=int64), array([2, 6], dtype=int64)]->End\n",
      "[array([4, 6], dtype=int64)]->End\n",
      "[array([4, 7], dtype=int64)]->End\n"
     ]
    },
    {
     "data": {
      "image/png": "[encoded data removed]",
      "text/plain": [
       "<matplotlib.figure.Figure at 0xdb1445ccf8>"
      ]
     },
     "metadata": {},
     "output_type": "display_data"
    },
    {
     "name": "stdout",
     "output_type": "stream",
     "text": [
      "50 0.0 2 3\n"
     ]
    },
    {
     "data": {
      "image/png": "[encoded data removed]",
      "text/plain": [
       "<matplotlib.figure.Figure at 0xdb14b4b4e0>"
      ]
     },
     "metadata": {},
     "output_type": "display_data"
    },
    {
     "name": "stdout",
     "output_type": "stream",
     "text": [
      "[array([2, 2], dtype=int64), array([2, 1], dtype=int64), array([2, 0], dtype=int64)]->End\n",
      "[array([6, 7], dtype=int64)]->End\n",
      "Goal_accuray: 0.2857142857142857\n",
      "4.0 14.0\n",
      "Average_Step_to_goal_in_each_domain : 4.0\n",
      "16.0 4.0\n"
     ]
    }
   ],
   "source": [
    "correct, traj_step, total,total_env = 0.0,0.0,0.0,0.0\n",
    "\n",
    "X,S,label = test_data[0].copy()\n",
    "\n",
    "prev_env = X.clone()\n",
    "\n",
    "whole_traj_act = []\n",
    "\n",
    "Trajectory = [S]\n",
    "Action  = [label]\n",
    "\n",
    "go = np.where(X[1] == 1.0) \n",
    "goal = np.column_stack([go[0],go[1]])\n",
    "\n",
    "end = len(test_data)\n",
    "\n",
    "\n",
    "for i in range(1,80):\n",
    "    X,S,label = test_data[i].copy()\n",
    "    \n",
    "    new_env = X.clone()\n",
    "    \n",
    "   \n",
    "    if (new_env[0] - prev_env[0]).sum() == 0.0:\n",
    "\n",
    "        if label != 4:\n",
    "            Trajectory.append(S)\n",
    "            Action.append(label)\n",
    "        else:\n",
    "            Trajectory.append(S)\n",
    "            Action.append(label)\n",
    "            whole_traj_act.append([Trajectory,Action])\n",
    "            Trajectory = []\n",
    "            Action = []\n",
    "    else :\n",
    "        #call the function with prev_new and whole traj act\n",
    "        total_env += 1\n",
    "        correct_goal,total_goal, traj_length,traj = agent_prediction(model,prev_env.clone(),whole_traj_act,goal,8,0)\n",
    "        #correct_goal,total_goal, traj_length,traj = cooperative(model=model,X=prev_env.clone(),imsize=7)\n",
    "        \n",
    "        total += total_goal\n",
    "\n",
    "        visualization(prev_env[0] - 0.5 * prev_env[1]+ abs(prev_env[2]),whole_traj_act,traj)\n",
    "        print(i,correct_goal,total_goal,traj_length)\n",
    "        plt.imshow(prev_env[0] - 0.5* prev_env[1] + abs(prev_env[2]))\n",
    "        plt.show()\n",
    "        for i in traj:\n",
    "            print(i,end=\"->\")\n",
    "            print('End')\n",
    "        correct += correct_goal\n",
    "        traj_step += traj_length\n",
    "        \n",
    "        prev_env = new_env.clone()\n",
    "        \n",
    "        \n",
    "        whole_traj_act = []\n",
    "        go = np.where(prev_env[1] == 1.0) \n",
    "        goal = np.column_stack([go[0],go[1]])\n",
    "        \n",
    "        \n",
    "print(f'Goal_accuray: {correct /total}')\n",
    "print(correct,total)\n",
    "print(f'Average_Step_to_goal_in_each_domain : {traj_step/total_env}')\n",
    "print(traj_step,total_env)"
   ]
  },
  {
   "cell_type": "code",
   "execution_count": null,
   "metadata": {
    "collapsed": true
   },
   "outputs": [],
   "source": []
  }
 ],
 "metadata": {
  "kernelspec": {
   "display_name": "Python 3",
   "language": "python",
   "name": "python3"
  },
  "language_info": {
   "codemirror_mode": {
    "name": "ipython",
    "version": 3
   },
   "file_extension": ".py",
   "mimetype": "text/x-python",
   "name": "python",
   "nbconvert_exporter": "python",
   "pygments_lexer": "ipython3",
   "version": "3.6.2"
  }
 },
 "nbformat": 4,
 "nbformat_minor": 2
}
