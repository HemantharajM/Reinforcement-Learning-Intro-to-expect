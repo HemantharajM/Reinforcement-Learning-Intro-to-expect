{
 "cells": [
  {
   "cell_type": "markdown",
   "metadata": {},
   "source": [
    "### Calculate the Value function using Matrix Notation"
   ]
  },
  {
   "cell_type": "markdown",
   "metadata": {},
   "source": [
    "#### using fixed policy and stochastic involved in action represented as State Transition Matrix"
   ]
  },
  {
   "cell_type": "markdown",
   "metadata": {},
   "source": [
    "#### V(s) = R + discount_factor * P * V"
   ]
  },
  {
   "cell_type": "markdown",
   "metadata": {},
   "source": [
    "####  R - Rewared function\n",
    "####  P - State Transistion Matrix\n",
    "####  V - Value function"
   ]
  },
  {
   "cell_type": "code",
   "execution_count": 13,
   "metadata": {},
   "outputs": [],
   "source": [
    "import numpy as np\n",
    "from graphics import *"
   ]
  },
  {
   "cell_type": "markdown",
   "metadata": {},
   "source": [
    "#### Environment Red - represent hole while Green Represent Goal"
   ]
  },
  {
   "cell_type": "code",
   "execution_count": 9,
   "metadata": {},
   "outputs": [],
   "source": [
    "win = GraphWin(\"My window\", 300,300)\n",
    "win.setBackground(color_rgb(255,255,255))\n",
    "\n",
    "#lines \n",
    "point = [[50,50,50,250],\n",
    "      [250,50,250,250],\n",
    "      [50,50,250,50],\n",
    "      [50,250,250,250],\n",
    "      [150,50,150,250],\n",
    "      [50,150,250,150]]\n",
    "\n",
    "for pt in point:\n",
    "    line = Line(Point(pt[0],pt[1]), Point(pt[2],pt[3]))\n",
    "    line.setWidth(2)\n",
    "    line.draw(win)"
   ]
  },
  {
   "cell_type": "code",
   "execution_count": 10,
   "metadata": {},
   "outputs": [
    {
     "data": {
      "text/plain": [
       "Rectangle(Point(150.0, 50.0), Point(250.0, 150.0))"
      ]
     },
     "execution_count": 10,
     "metadata": {},
     "output_type": "execute_result"
    }
   ],
   "source": [
    "#Rectangle\n",
    "\n",
    "Rect1 = Rectangle(Point(150,150), Point(250,250))\n",
    "Rect1.setFill(color_rgb(255,0,0))\n",
    "Rect1.draw(win)\n",
    "\n",
    "Rect2 = Rectangle(Point(150,50), Point(250,150))\n",
    "Rect2.setFill(color_rgb(0,255,0))\n",
    "Rect2.draw(win)"
   ]
  },
  {
   "cell_type": "markdown",
   "metadata": {},
   "source": [
    "#### 2x2 grid world with fixed policy and evalute Value function"
   ]
  },
  {
   "cell_type": "code",
   "execution_count": 102,
   "metadata": {},
   "outputs": [],
   "source": [
    "R = np.array([[-1],\n",
    "             [-100],\n",
    "             [-1],\n",
    "             [0]])"
   ]
  },
  {
   "cell_type": "markdown",
   "metadata": {},
   "source": [
    "#### Fixed policy leads to value chosen in State Transition Matrix"
   ]
  },
  {
   "cell_type": "markdown",
   "metadata": {},
   "source": [
    "#### P1 - Move upward in the starting point"
   ]
  },
  {
   "cell_type": "markdown",
   "metadata": {},
   "source": [
    "                    \n",
    "|  RIGHT    |   GOAL  |\n",
    "|-----------|---------|\n",
    "|    UP     |    UP   |"
   ]
  },
  {
   "cell_type": "code",
   "execution_count": 103,
   "metadata": {},
   "outputs": [],
   "source": [
    "P1 = np.array([[0.1,0.1,0.8,0],\n",
    "               [0.1,0.1,0,0.8],\n",
    "               [0.1,0,0.1,0.8],\n",
    "               [0, 0, 0, 1]])"
   ]
  },
  {
   "cell_type": "markdown",
   "metadata": {},
   "source": [
    "#### Final Value with discount factor 0.9"
   ]
  },
  {
   "cell_type": "code",
   "execution_count": 105,
   "metadata": {},
   "outputs": [],
   "source": [
    "V_F = np.dot(np.linalg.inv(np.eye(4) - (0.9 * P1)), R)"
   ]
  },
  {
   "cell_type": "code",
   "execution_count": 106,
   "metadata": {},
   "outputs": [
    {
     "data": {
      "text/plain": [
       "array([[ -14.07574153],\n",
       "       [-111.28221619],\n",
       "       [  -2.4910074 ],\n",
       "       [   0.        ]])"
      ]
     },
     "execution_count": 106,
     "metadata": {},
     "output_type": "execute_result"
    }
   ],
   "source": [
    "#Final Value of each state is \n",
    "V_F"
   ]
  },
  {
   "cell_type": "markdown",
   "metadata": {},
   "source": [
    "#### P2 - Move left in Starting point"
   ]
  },
  {
   "cell_type": "markdown",
   "metadata": {},
   "source": [
    "|  RIGHT  |  GOAL  |\n",
    "|---------|--------|\n",
    "|  LEFT   |   UP   |"
   ]
  },
  {
   "cell_type": "code",
   "execution_count": 107,
   "metadata": {},
   "outputs": [],
   "source": [
    "P2 = np.array([[0.9,0,0.1,0],\n",
    "               [0.1,0.1,0,0.8],\n",
    "               [0.1,0,0.1,0.8],\n",
    "               [0, 0, 0, 1]])"
   ]
  },
  {
   "cell_type": "code",
   "execution_count": 108,
   "metadata": {},
   "outputs": [],
   "source": [
    "V_F = np.dot(np.linalg.inv(np.eye(4) - (0.9 * P2)), R)"
   ]
  },
  {
   "cell_type": "code",
   "execution_count": 109,
   "metadata": {},
   "outputs": [
    {
     "data": {
      "text/plain": [
       "array([[  -6.06796117],\n",
       "       [-110.49023792],\n",
       "       [  -1.69902913],\n",
       "       [   0.        ]])"
      ]
     },
     "execution_count": 109,
     "metadata": {},
     "output_type": "execute_result"
    }
   ],
   "source": [
    "V_F"
   ]
  },
  {
   "cell_type": "code",
   "execution_count": 110,
   "metadata": {},
   "outputs": [],
   "source": [
    "win.close()"
   ]
  },
  {
   "cell_type": "markdown",
   "metadata": {},
   "source": [
    "#### Comment"
   ]
  },
  {
   "cell_type": "markdown",
   "metadata": {},
   "source": [
    "#### In starting point change of policy from Up to Left improved the performance of whole value , it changes -14 .07 to -6.06 in Value[0]"
   ]
  },
  {
   "cell_type": "code",
   "execution_count": null,
   "metadata": {},
   "outputs": [],
   "source": []
  }
 ],
 "metadata": {
  "kernelspec": {
   "display_name": "Python 3",
   "language": "python",
   "name": "python3"
  },
  "language_info": {
   "codemirror_mode": {
    "name": "ipython",
    "version": 3
   },
   "file_extension": ".py",
   "mimetype": "text/x-python",
   "name": "python",
   "nbconvert_exporter": "python",
   "pygments_lexer": "ipython3",
   "version": "3.6.6"
  }
 },
 "nbformat": 4,
 "nbformat_minor": 2
}
