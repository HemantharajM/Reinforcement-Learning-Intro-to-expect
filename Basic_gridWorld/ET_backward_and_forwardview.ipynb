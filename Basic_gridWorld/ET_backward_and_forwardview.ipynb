{
 "cells": [
  {
   "cell_type": "markdown",
   "metadata": {},
   "source": [
    "#### Eligibility traces calculation using both Forward view and Backward view in efficient way"
   ]
  },
  {
   "cell_type": "code",
   "execution_count": 228,
   "metadata": {
    "collapsed": true
   },
   "outputs": [],
   "source": [
    "import random as rand\n",
    "import numpy as np\n",
    "import matplotlib.pyplot as plt\n",
    "import time\n",
    "import math"
   ]
  },
  {
   "cell_type": "markdown",
   "metadata": {},
   "source": [
    "#### create random states and Temporal Difference Error"
   ]
  },
  {
   "cell_type": "code",
   "execution_count": 229,
   "metadata": {
    "collapsed": true
   },
   "outputs": [],
   "source": [
    "data_size = 50\n",
    "States = np.arange(0,data_size)\n",
    "Q = np.random.randint(0,10,[1,data_size+1])\n",
    "reward = np.random.randint(0,2,[1,data_size])"
   ]
  },
  {
   "cell_type": "code",
   "execution_count": 230,
   "metadata": {
    "collapsed": true
   },
   "outputs": [],
   "source": [
    "lambda_return = 0.7\n",
    "discount_factor = 0.9\n",
    "Q[0,data_size] = 0"
   ]
  },
  {
   "cell_type": "markdown",
   "metadata": {},
   "source": [
    "#### First calculate lambda return  value using Forward view which offline method "
   ]
  },
  {
   "cell_type": "code",
   "execution_count": 231,
   "metadata": {
    "collapsed": true
   },
   "outputs": [],
   "source": [
    "R_lambda = np.zeros([1,data_size])"
   ]
  },
  {
   "cell_type": "code",
   "execution_count": 232,
   "metadata": {
    "collapsed": true
   },
   "outputs": [],
   "source": [
    "R_lambda[0,data_size-1] = reward[0,data_size-1]\n",
    "\n",
    "for i in range(data_size-2,-1,-1):\n",
    "    R_lambda[0,i] = reward[0,i] + discount_factor * (lambda_return * R_lambda[0,i+1] +(1-lambda_return)*Q[0,i+1])"
   ]
  },
  {
   "cell_type": "code",
   "execution_count": 233,
   "metadata": {},
   "outputs": [
    {
     "data": {
      "image/png": "[encoded data removed]",
      "text/plain": [
       "<matplotlib.figure.Figure at 0x89466b3cc0>"
      ]
     },
     "metadata": {},
     "output_type": "display_data"
    }
   ],
   "source": [
    "plt.plot(R_lambda[0,:],'*')\n",
    "plt.show()"
   ]
  },
  {
   "cell_type": "markdown",
   "metadata": {},
   "source": [
    "#### Now calculate same returns using Backward view"
   ]
  },
  {
   "cell_type": "code",
   "execution_count": 234,
   "metadata": {
    "collapsed": true
   },
   "outputs": [],
   "source": [
    "class Node:\n",
    "    def __init__(self,States=None,reward=None,Q=None,value=0,Time=None,cache=0,repeat=None,Next=None):\n",
    "        self.States = States\n",
    "        self.reward = reward\n",
    "        self.Q = Q\n",
    "        self.value = value\n",
    "        self.Time = Time\n",
    "        self.cache = cache\n",
    "        self.repeat = None\n",
    "        self.next = Next"
   ]
  },
  {
   "cell_type": "code",
   "execution_count": 235,
   "metadata": {
    "collapsed": true
   },
   "outputs": [],
   "source": [
    "class Linklist:\n",
    "    def __init__(self,head=None,tail=None):\n",
    "        self.head = head\n",
    "        self.tail = tail\n",
    "    \n",
    "    def insert(self,data):\n",
    "        if not self.head:\n",
    "            self.head = data\n",
    "            self.tail = self.head\n",
    "        else :\n",
    "            self.tail.next = data\n",
    "            self.tail = self.tail.next\n",
    "    \n",
    "    def delete(self):\n",
    "        if self.head:\n",
    "            if self.head == self.tail:\n",
    "                self.head = None\n",
    "                self.tail = None\n",
    "            else:\n",
    "                self.head = self.head.next\n",
    "    def empty(self):\n",
    "        if self.head == None and self.tail == None:\n",
    "            return True\n",
    "\n",
    "    def print_(self):\n",
    "        temp = self.head\n",
    "        while  temp:\n",
    "            print(temp.States, end = \"->\")\n",
    "            temp = temp.next"
   ]
  },
  {
   "cell_type": "code",
   "execution_count": 236,
   "metadata": {},
   "outputs": [
    {
     "name": "stdout",
     "output_type": "stream",
     "text": [
      "3.8095954412875823\n",
      "4.035325798454411\n",
      "3.970021193293213\n",
      "4.721707720374496\n",
      "2.908528052871698\n",
      "3.344405425286838\n",
      "3.7251876411647293\n",
      "4.33097207275889\n",
      "4.7348681453379555\n",
      "5.076183947491383\n",
      "6.052859375684196\n",
      "4.604193313981796\n",
      "5.29764774389709\n",
      "4.252345475819744\n",
      "5.036524490086377\n",
      "4.264324587438693\n",
      "3.7708801481080005\n",
      "5.56508372776768\n",
      "3.394299194350875\n",
      "3.806495061693913\n",
      "3.9041631798024268\n",
      "4.911370126670519\n",
      "5.784174505411454\n",
      "4.60522534063669\n",
      "2.30139684314192\n",
      "1.513320161818956\n",
      "1.5573056729258594\n",
      "2.0514734497007905\n",
      "3.2584180247145063\n",
      "4.323080357301817\n",
      "3.562555973287564\n",
      "3.5151600509390266\n",
      "3.135174684030201\n",
      "2.974003252522557\n",
      "4.7277157142436845\n",
      "5.794246866638701\n",
      "4.60991566133127\n",
      "4.31732644655757\n",
      "5.567184835805666\n",
      "3.820928310802643\n",
      "2.7633782711153065\n",
      "3.5291718589131853\n",
      "2.300272791925691\n",
      "2.794083796707446\n",
      "3.1493393598530885\n",
      "4.998951364846172\n",
      "2.49039899181932\n",
      "1.0799983997132059\n",
      "-2.540137768791695e-06\n",
      "-4.0319647123677694e-06\n"
     ]
    }
   ],
   "source": [
    "memory = Linklist()\n",
    "length = -1\n",
    "maximum_length = int(-2/math.log10(lambda_return))\n",
    "j = 0\n",
    "token = 0\n",
    "for i in range(data_size+maximum_length):\n",
    "    \n",
    "    if i < data_size:\n",
    "        #Append the state\n",
    "        address = Node(States=States[i],Q=Q[0,i+1],reward=reward[0,i],Time=i)\n",
    "        memory.insert(address)\n",
    "        #increase the length of queue\n",
    "        length = length + 1\n",
    "        #calculate and set the Front node values\n",
    "        memory.head.value = memory.head.value + ((discount_factor*lambda_return)**(length))*(reward[0,i]+ discount_factor*(1-lambda_return)*Q[0,i+1])   \n",
    "        token = 0\n",
    "    else :\n",
    "        token = 1\n",
    "    \n",
    "    #Check for set the value\n",
    "    if (length >= maximum_length or token) and  (not memory.empty()):\n",
    "        #calculate value for next state\n",
    "        next_state_lambda_reward = ((memory.head.value - memory.head.reward)/(lambda_return*discount_factor) )-(((1-lambda_return)* memory.head.Q)/(lambda_return))\n",
    "        \n",
    "        if memory.tail:\n",
    "            #store the lambda return value in array\n",
    "            R_lambda[0,j] = memory.head.value\n",
    "        else :\n",
    "            R_lambda[0,j] = memory.head.reward\n",
    "        \n",
    "        print(memory.head.value)\n",
    "        #pop the states node out of queue\n",
    "        memory.delete()\n",
    "        length = length - 1\n",
    "        \n",
    "        if memory.tail:\n",
    "            #store the value in the next state\n",
    "            memory.head.value = next_state_lambda_reward\n",
    "        \n",
    "        j=j+1"
   ]
  },
  {
   "cell_type": "code",
   "execution_count": 237,
   "metadata": {},
   "outputs": [
    {
     "data": {
      "image/png": "[encoded data removed]",
      "text/plain": [
       "<matplotlib.figure.Figure at 0x89463adf98>"
      ]
     },
     "metadata": {},
     "output_type": "display_data"
    }
   ],
   "source": [
    "plt.plot(R_lambda[0,:],'*')\n",
    "plt.show()"
   ]
  },
  {
   "cell_type": "code",
   "execution_count": null,
   "metadata": {
    "collapsed": true
   },
   "outputs": [],
   "source": []
  }
 ],
 "metadata": {
  "kernelspec": {
   "display_name": "Python 3",
   "language": "python",
   "name": "python3"
  },
  "language_info": {
   "codemirror_mode": {
    "name": "ipython",
    "version": 3
   },
   "file_extension": ".py",
   "mimetype": "text/x-python",
   "name": "python",
   "nbconvert_exporter": "python",
   "pygments_lexer": "ipython3",
   "version": "3.6.2"
  }
 },
 "nbformat": 4,
 "nbformat_minor": 2
}
