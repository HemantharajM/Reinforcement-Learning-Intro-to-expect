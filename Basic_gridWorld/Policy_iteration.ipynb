{
 "cells": [
  {
   "cell_type": "code",
   "execution_count": 95,
   "metadata": {},
   "outputs": [],
   "source": [
    "from graphics import *\n",
    "import random\n",
    "import numpy as np\n",
    "import time"
   ]
  },
  {
   "cell_type": "markdown",
   "metadata": {},
   "source": [
    "#### Create the 5x5 Grid world environment "
   ]
  },
  {
   "cell_type": "code",
   "execution_count": 96,
   "metadata": {},
   "outputs": [],
   "source": [
    "win = GraphWin(\"My Window\", 600,600)\n",
    "win.setBackground(color_rgb(255,255,255))"
   ]
  },
  {
   "cell_type": "code",
   "execution_count": 97,
   "metadata": {},
   "outputs": [],
   "source": [
    "def line(x1,y1,x2,y2):\n",
    "    \"\"\"\n",
    "    create a line between pt(x1,y1) and pt(x2,y2) and return it\n",
    "    \"\"\"\n",
    "    ln = Line(Point(x1,y1),Point(x2,y2))\n",
    "    ln.setOutline(color_rgb(0,0,0))\n",
    "    ln.setWidth(2)\n",
    "    \n",
    "    return ln"
   ]
  },
  {
   "cell_type": "code",
   "execution_count": 98,
   "metadata": {},
   "outputs": [
    {
     "data": {
      "text/plain": [
       "Line(Point(50.0, 50.0), Point(50.0, 550.0))"
      ]
     },
     "execution_count": 98,
     "metadata": {},
     "output_type": "execute_result"
    }
   ],
   "source": [
    "#border lines\n",
    "border1 = line(50,50,550,50)\n",
    "border1.draw(win)\n",
    "\n",
    "border2 = line(550,50,550,550)\n",
    "border2.draw(win)\n",
    "\n",
    "border3 = line(50,550,550,550)\n",
    "border3.draw(win)\n",
    "\n",
    "border4 = line(50,50,50,550)\n",
    "border4.draw(win)"
   ]
  },
  {
   "cell_type": "code",
   "execution_count": 99,
   "metadata": {},
   "outputs": [
    {
     "data": {
      "text/plain": [
       "Line(Point(50.0, 450.0), Point(550.0, 450.0))"
      ]
     },
     "execution_count": 99,
     "metadata": {},
     "output_type": "execute_result"
    }
   ],
   "source": [
    "#lines horizontal\n",
    "ln1 = line(50,150,550,150)\n",
    "ln1.draw(win)\n",
    "\n",
    "ln2 = line(50,250,550,250)\n",
    "ln2.draw(win)\n",
    "\n",
    "ln3 = line(50,350,550,350)\n",
    "ln3.draw(win)\n",
    "\n",
    "ln4 = line(50,450,550,450)\n",
    "ln4.draw(win)"
   ]
  },
  {
   "cell_type": "code",
   "execution_count": 100,
   "metadata": {},
   "outputs": [
    {
     "data": {
      "text/plain": [
       "Line(Point(450.0, 50.0), Point(450.0, 550.0))"
      ]
     },
     "execution_count": 100,
     "metadata": {},
     "output_type": "execute_result"
    }
   ],
   "source": [
    "#lines vertical\n",
    "\n",
    "lnv1 = line(150,50,150,550)\n",
    "lnv1.draw(win)\n",
    "\n",
    "lnv2 = line(250,50,250,550)\n",
    "lnv2.draw(win)\n",
    "\n",
    "lnv3 = line(350,50,350,550)\n",
    "lnv3.draw(win)\n",
    "\n",
    "lnv4 = line(450,50,450,550)\n",
    "lnv4.draw(win)"
   ]
  },
  {
   "cell_type": "code",
   "execution_count": 101,
   "metadata": {},
   "outputs": [
    {
     "data": {
      "text/plain": [
       "Rectangle(Point(150.0, 250.0), Point(250.0, 350.0))"
      ]
     },
     "execution_count": 101,
     "metadata": {},
     "output_type": "execute_result"
    }
   ],
   "source": [
    "#create goal, obstacle and hole\n",
    "\n",
    "rect_goal = Rectangle(Point(450,50), Point(550,150))\n",
    "rect_goal.setFill(color_rgb(0,255,0))\n",
    "rect_goal.draw(win)\n",
    "\n",
    "rect_hole = Rectangle(Point(450,150), Point(550,250))\n",
    "rect_hole.setFill(color_rgb(255,0,0))\n",
    "rect_hole.draw(win)\n",
    "\n",
    "rect_obs1 = Rectangle(Point(150,350), Point(250,450))\n",
    "rect_obs1.setFill(color_rgb(0,0,0))\n",
    "rect_obs1.draw(win)\n",
    "\n",
    "rect_obs2 = Rectangle(Point(150,250), Point(250,350))\n",
    "rect_obs2.setFill(color_rgb(0,0,0))\n",
    "rect_obs2.draw(win)"
   ]
  },
  {
   "cell_type": "markdown",
   "metadata": {},
   "source": [
    "#### create agent looks like circle"
   ]
  },
  {
   "cell_type": "code",
   "execution_count": 102,
   "metadata": {},
   "outputs": [
    {
     "data": {
      "text/plain": [
       "Circle(Point(100.0, 500.0), 25)"
      ]
     },
     "execution_count": 102,
     "metadata": {},
     "output_type": "execute_result"
    }
   ],
   "source": [
    "agent = Circle(Point(100,500), 25)\n",
    "agent.setFill(color_rgb(0,0,255))\n",
    "agent.draw(win)"
   ]
  },
  {
   "cell_type": "code",
   "execution_count": 103,
   "metadata": {},
   "outputs": [],
   "source": [
    "def up(agent):\n",
    "    val = agent.getCenter()\n",
    "    \n",
    "    if (val.getY()) == 100:\n",
    "        pass\n",
    "    else :\n",
    "        agent.move(0,-100)\n",
    "        \n",
    "    \n",
    "def down(agent):\n",
    "    val = agent.getCenter()\n",
    "    \n",
    "    if val.getY() == 500:\n",
    "        pass\n",
    "    else :\n",
    "        agent.move(0,100)\n",
    "\n",
    "def right(agent):\n",
    "    val = agent.getCenter()\n",
    "    \n",
    "    if val.getX() == 500:\n",
    "        pass\n",
    "    else :\n",
    "        agent.move(100,0)\n",
    "\n",
    "def left(agent):\n",
    "    val = agent.getCenter()\n",
    "    \n",
    "    if val.getX() == 100:\n",
    "        pass\n",
    "    else :\n",
    "        agent.move(-100,0)"
   ]
  },
  {
   "cell_type": "code",
   "execution_count": 104,
   "metadata": {},
   "outputs": [],
   "source": [
    "def action(agent,val):\n",
    "    if val == 0:\n",
    "        up(agent)\n",
    "    elif val == 1:\n",
    "        down(agent)\n",
    "    elif val == 2:\n",
    "        right(agent)\n",
    "    else :\n",
    "        left(agent)"
   ]
  },
  {
   "cell_type": "code",
   "execution_count": 105,
   "metadata": {},
   "outputs": [],
   "source": [
    "for i in range(200):\n",
    "    val = random.choice([0,1,2,3])\n",
    "    action(agent,val)"
   ]
  },
  {
   "cell_type": "markdown",
   "metadata": {},
   "source": [
    "#### Reward for the agent in the each state"
   ]
  },
  {
   "cell_type": "code",
   "execution_count": 106,
   "metadata": {},
   "outputs": [],
   "source": [
    "reward = np.array([[-1,-1,-1,-1,-1],\n",
    "                   [-1,-20,-1,-1,-1],\n",
    "                   [-1,-20,-1,-1,-1],\n",
    "                   [-1,-1,-1,-1,-100],\n",
    "                   [-1,-1,-1,-1,100]])"
   ]
  },
  {
   "cell_type": "code",
   "execution_count": 107,
   "metadata": {},
   "outputs": [],
   "source": [
    "def rewards(agent):\n",
    "    val = agent.getCenter()\n",
    "    i = int(val.getX() / 100) - 1\n",
    "    j = int((500 - val.getY()) / 100) \n",
    "    \n",
    "    \n",
    "    return reward[j][i]"
   ]
  },
  {
   "cell_type": "code",
   "execution_count": 108,
   "metadata": {},
   "outputs": [],
   "source": [
    "def observation(agent):\n",
    "    val = agent.getCenter()\n",
    "    i = int(val.getX() / 100) - 1\n",
    "    j = int((500 - val.getY()) / 100) \n",
    "    \n",
    "    return [i,j]"
   ]
  },
  {
   "cell_type": "code",
   "execution_count": 109,
   "metadata": {},
   "outputs": [],
   "source": [
    "def env_close():\n",
    "    win.close()"
   ]
  },
  {
   "cell_type": "code",
   "execution_count": 110,
   "metadata": {},
   "outputs": [],
   "source": [
    "def reset(agent):\n",
    "    agent.move(-400,400)"
   ]
  },
  {
   "cell_type": "code",
   "execution_count": 111,
   "metadata": {},
   "outputs": [
    {
     "name": "stdout",
     "output_type": "stream",
     "text": [
      "[3, 0]   -1\n",
      "[3, 0]   -1\n",
      "[2, 0]   -1\n",
      "[1, 0]   -1\n",
      "[2, 0]   -1\n",
      "[2, 1]   -1\n",
      "[3, 1]   -1\n",
      "[3, 2]   -1\n",
      "[4, 2]   -1\n",
      "[4, 3]   -100\n",
      "[3, 3]   -1\n",
      "[4, 3]   -100\n",
      "[4, 3]   -100\n",
      "[4, 3]   -100\n",
      "[4, 2]   -1\n",
      "[4, 3]   -100\n",
      "[4, 3]   -100\n",
      "[4, 3]   -100\n",
      "[3, 3]   -1\n",
      "[4, 3]   -100\n",
      "[3, 3]   -1\n",
      "[4, 3]   -100\n",
      "[3, 3]   -1\n",
      "[2, 3]   -1\n",
      "[1, 3]   -1\n",
      "[1, 2]   -20\n",
      "[0, 2]   -1\n",
      "[0, 1]   -1\n",
      "[0, 2]   -1\n",
      "[0, 1]   -1\n",
      "[0, 0]   -1\n",
      "[0, 0]   -1\n",
      "[1, 0]   -1\n",
      "[2, 0]   -1\n",
      "[2, 0]   -1\n",
      "[2, 0]   -1\n",
      "[2, 0]   -1\n",
      "[2, 0]   -1\n",
      "[1, 0]   -1\n",
      "[0, 0]   -1\n",
      "[1, 0]   -1\n",
      "[2, 0]   -1\n",
      "[2, 1]   -1\n",
      "[1, 1]   -20\n",
      "[2, 1]   -1\n",
      "[1, 1]   -20\n",
      "[0, 1]   -1\n",
      "[0, 0]   -1\n",
      "[0, 0]   -1\n",
      "[0, 1]   -1\n",
      "[0, 0]   -1\n",
      "[1, 0]   -1\n",
      "[1, 1]   -20\n",
      "[0, 1]   -1\n",
      "[0, 0]   -1\n",
      "[1, 0]   -1\n",
      "[2, 0]   -1\n",
      "[1, 0]   -1\n",
      "[0, 0]   -1\n",
      "[1, 0]   -1\n",
      "[1, 1]   -20\n",
      "[1, 2]   -20\n",
      "[0, 2]   -1\n",
      "[0, 1]   -1\n",
      "[0, 2]   -1\n",
      "[0, 1]   -1\n",
      "[1, 1]   -20\n",
      "[1, 0]   -1\n",
      "[1, 0]   -1\n",
      "[0, 0]   -1\n",
      "[0, 0]   -1\n",
      "[0, 0]   -1\n",
      "[0, 1]   -1\n",
      "[1, 1]   -20\n",
      "[0, 1]   -1\n",
      "[0, 0]   -1\n",
      "[0, 0]   -1\n",
      "[0, 0]   -1\n",
      "[0, 0]   -1\n",
      "[0, 0]   -1\n",
      "[0, 1]   -1\n",
      "[0, 1]   -1\n",
      "[0, 2]   -1\n",
      "[0, 1]   -1\n",
      "[0, 1]   -1\n",
      "[1, 1]   -20\n",
      "[0, 1]   -1\n",
      "[0, 0]   -1\n",
      "[0, 0]   -1\n",
      "[0, 0]   -1\n",
      "[1, 0]   -1\n",
      "[1, 1]   -20\n",
      "[1, 2]   -20\n",
      "[1, 3]   -1\n",
      "[1, 4]   -1\n",
      "[1, 3]   -1\n",
      "[1, 4]   -1\n",
      "[1, 4]   -1\n",
      "[2, 4]   -1\n",
      "[2, 3]   -1\n",
      "[2, 2]   -1\n",
      "[1, 2]   -20\n",
      "[1, 3]   -1\n",
      "[1, 4]   -1\n",
      "[2, 4]   -1\n",
      "[3, 4]   -1\n",
      "[3, 4]   -1\n",
      "[4, 4]   100\n",
      "[0, 0]   -1\n",
      "[0, 1]   -1\n",
      "[0, 2]   -1\n",
      "[0, 2]   -1\n",
      "[0, 1]   -1\n",
      "[0, 2]   -1\n",
      "[0, 2]   -1\n",
      "[0, 2]   -1\n",
      "[1, 2]   -20\n",
      "[1, 3]   -1\n",
      "[1, 4]   -1\n",
      "[1, 3]   -1\n",
      "[1, 2]   -20\n",
      "[1, 1]   -20\n",
      "[0, 1]   -1\n",
      "[0, 1]   -1\n",
      "[1, 1]   -20\n",
      "[1, 0]   -1\n",
      "[0, 0]   -1\n",
      "[1, 0]   -1\n",
      "[1, 0]   -1\n",
      "[2, 0]   -1\n",
      "[2, 0]   -1\n",
      "[3, 0]   -1\n",
      "[3, 0]   -1\n",
      "[2, 0]   -1\n",
      "[2, 0]   -1\n",
      "[1, 0]   -1\n",
      "[0, 0]   -1\n",
      "[1, 0]   -1\n",
      "[1, 0]   -1\n",
      "[1, 0]   -1\n",
      "[1, 0]   -1\n",
      "[2, 0]   -1\n",
      "[3, 0]   -1\n",
      "[2, 0]   -1\n",
      "[1, 0]   -1\n",
      "[1, 0]   -1\n",
      "[2, 0]   -1\n",
      "[3, 0]   -1\n",
      "[3, 0]   -1\n",
      "[4, 0]   -1\n"
     ]
    }
   ],
   "source": [
    "for i in range(150):\n",
    "    time.sleep(.5)\n",
    "    state = observation(agent)\n",
    "    if state[0]== 4 and state[1] == 4:\n",
    "        reset(agent)\n",
    "        \n",
    "    val = random.choice([0,1,2,3])\n",
    "    action(agent,val)\n",
    "    print(observation(agent), \" \", rewards(agent))"
   ]
  },
  {
   "cell_type": "code",
   "execution_count": null,
   "metadata": {},
   "outputs": [],
   "source": []
  },
  {
   "cell_type": "code",
   "execution_count": 112,
   "metadata": {},
   "outputs": [],
   "source": [
    "env_close()"
   ]
  },
  {
   "cell_type": "code",
   "execution_count": null,
   "metadata": {},
   "outputs": [],
   "source": []
  }
 ],
 "metadata": {
  "kernelspec": {
   "display_name": "Python 3",
   "language": "python",
   "name": "python3"
  },
  "language_info": {
   "codemirror_mode": {
    "name": "ipython",
    "version": 3
   },
   "file_extension": ".py",
   "mimetype": "text/x-python",
   "name": "python",
   "nbconvert_exporter": "python",
   "pygments_lexer": "ipython3",
   "version": "3.6.6"
  }
 },
 "nbformat": 4,
 "nbformat_minor": 2
}
