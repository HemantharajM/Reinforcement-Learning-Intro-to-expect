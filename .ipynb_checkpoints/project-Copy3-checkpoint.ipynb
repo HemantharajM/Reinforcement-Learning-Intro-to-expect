{
 "cells": [
  {
   "cell_type": "markdown",
   "metadata": {},
   "source": [
    "#### Import the necessary package"
   ]
  },
  {
   "cell_type": "code",
   "execution_count": 13,
   "metadata": {},
   "outputs": [],
   "source": [
    "import make_env as world\n",
    "import numpy as np\n",
    "from keras.models import Sequential\n",
    "from keras.layers import Dense\n",
    "import random"
   ]
  },
  {
   "cell_type": "markdown",
   "metadata": {},
   "source": [
    "#### load the environment"
   ]
  },
  {
   "cell_type": "code",
   "execution_count": 14,
   "metadata": {},
   "outputs": [],
   "source": [
    "env = world.make_env('simple')"
   ]
  },
  {
   "cell_type": "code",
   "execution_count": 15,
   "metadata": {},
   "outputs": [],
   "source": [
    "env.discrete_action_input = True\n",
    "for i in range(100):\n",
    "    val =  env.render(mode='Test')\n",
    "    val = env.step(action_n=[np.random.choice([0,1,2,3,4])])"
   ]
  },
  {
   "cell_type": "markdown",
   "metadata": {},
   "source": [
    "#### Create the model"
   ]
  },
  {
   "cell_type": "code",
   "execution_count": 16,
   "metadata": {},
   "outputs": [],
   "source": [
    "agent_move = Sequential()"
   ]
  },
  {
   "cell_type": "code",
   "execution_count": 17,
   "metadata": {},
   "outputs": [],
   "source": [
    "agent_move.add(Dense(64,activation='relu', input_dim = 5))\n",
    "agent_move.add(Dense(50,activation='relu'))\n",
    "agent_move.add(Dense(32,activation='relu'))\n",
    "agent_move.add(Dense(24,activation='relu'))\n",
    "agent_move.add(Dense(16,activation='relu'))\n",
    "agent_move.add(Dense(10,activation='relu'))\n",
    "agent_move.add(Dense(8, activation='relu'))\n",
    "agent_move.add(Dense(4,activation='relu'))\n",
    "agent_move.add(Dense(1,activation='linear'))"
   ]
  },
  {
   "cell_type": "code",
   "execution_count": 18,
   "metadata": {},
   "outputs": [
    {
     "name": "stdout",
     "output_type": "stream",
     "text": [
      "_________________________________________________________________\n",
      "Layer (type)                 Output Shape              Param #   \n",
      "=================================================================\n",
      "dense_19 (Dense)             (None, 64)                384       \n",
      "_________________________________________________________________\n",
      "dense_20 (Dense)             (None, 50)                3250      \n",
      "_________________________________________________________________\n",
      "dense_21 (Dense)             (None, 32)                1632      \n",
      "_________________________________________________________________\n",
      "dense_22 (Dense)             (None, 24)                792       \n",
      "_________________________________________________________________\n",
      "dense_23 (Dense)             (None, 16)                400       \n",
      "_________________________________________________________________\n",
      "dense_24 (Dense)             (None, 10)                170       \n",
      "_________________________________________________________________\n",
      "dense_25 (Dense)             (None, 8)                 88        \n",
      "_________________________________________________________________\n",
      "dense_26 (Dense)             (None, 4)                 36        \n",
      "_________________________________________________________________\n",
      "dense_27 (Dense)             (None, 1)                 5         \n",
      "=================================================================\n",
      "Total params: 6,757\n",
      "Trainable params: 6,757\n",
      "Non-trainable params: 0\n",
      "_________________________________________________________________\n"
     ]
    }
   ],
   "source": [
    "agent_move.summary()"
   ]
  },
  {
   "cell_type": "code",
   "execution_count": 19,
   "metadata": {},
   "outputs": [],
   "source": [
    "agent_move.compile(loss='mean_squared_error', optimizer='Adam')"
   ]
  },
  {
   "cell_type": "markdown",
   "metadata": {},
   "source": [
    "#### Introduce target network"
   ]
  },
  {
   "cell_type": "code",
   "execution_count": 20,
   "metadata": {},
   "outputs": [],
   "source": [
    "agent_target = Sequential()"
   ]
  },
  {
   "cell_type": "code",
   "execution_count": 21,
   "metadata": {},
   "outputs": [],
   "source": [
    "agent_target.add(Dense(64,activation='relu', input_dim = 5))\n",
    "agent_target.add(Dense(50,activation='relu'))\n",
    "agent_target.add(Dense(32,activation='relu'))\n",
    "agent_target.add(Dense(24,activation='relu'))\n",
    "agent_target.add(Dense(16,activation='relu'))\n",
    "agent_target.add(Dense(10,activation='relu'))\n",
    "agent_target.add(Dense(8, activation='relu'))\n",
    "agent_target.add(Dense(4,activation='relu'))\n",
    "agent_target.add(Dense(1,activation='linear'))"
   ]
  },
  {
   "cell_type": "code",
   "execution_count": 22,
   "metadata": {},
   "outputs": [
    {
     "name": "stdout",
     "output_type": "stream",
     "text": [
      "_________________________________________________________________\n",
      "Layer (type)                 Output Shape              Param #   \n",
      "=================================================================\n",
      "dense_28 (Dense)             (None, 64)                384       \n",
      "_________________________________________________________________\n",
      "dense_29 (Dense)             (None, 50)                3250      \n",
      "_________________________________________________________________\n",
      "dense_30 (Dense)             (None, 32)                1632      \n",
      "_________________________________________________________________\n",
      "dense_31 (Dense)             (None, 24)                792       \n",
      "_________________________________________________________________\n",
      "dense_32 (Dense)             (None, 16)                400       \n",
      "_________________________________________________________________\n",
      "dense_33 (Dense)             (None, 10)                170       \n",
      "_________________________________________________________________\n",
      "dense_34 (Dense)             (None, 8)                 88        \n",
      "_________________________________________________________________\n",
      "dense_35 (Dense)             (None, 4)                 36        \n",
      "_________________________________________________________________\n",
      "dense_36 (Dense)             (None, 1)                 5         \n",
      "=================================================================\n",
      "Total params: 6,757\n",
      "Trainable params: 6,757\n",
      "Non-trainable params: 0\n",
      "_________________________________________________________________\n"
     ]
    }
   ],
   "source": [
    "agent_target.summary()"
   ]
  },
  {
   "cell_type": "code",
   "execution_count": 23,
   "metadata": {},
   "outputs": [],
   "source": [
    "agent_move.save_weights('./random_weight')"
   ]
  },
  {
   "cell_type": "code",
   "execution_count": 24,
   "metadata": {},
   "outputs": [],
   "source": [
    "episode = 1000\n",
    "max_episode_length = 400\n",
    "discount_factor = 0.9"
   ]
  },
  {
   "cell_type": "code",
   "execution_count": 32,
   "metadata": {},
   "outputs": [
    {
     "ename": "NameError",
     "evalue": "name 'episode_experience' is not defined",
     "output_type": "error",
     "traceback": [
      "\u001b[0;31m---------------------------------------------------------------------------\u001b[0m",
      "\u001b[0;31mNameError\u001b[0m                                 Traceback (most recent call last)",
      "\u001b[0;32m<ipython-input-32-ae33ffd9e0f1>\u001b[0m in \u001b[0;36m<module>\u001b[0;34m()\u001b[0m\n\u001b[1;32m     62\u001b[0m \u001b[0;34m\u001b[0m\u001b[0m\n\u001b[1;32m     63\u001b[0m \u001b[0;34m\u001b[0m\u001b[0m\n\u001b[0;32m---> 64\u001b[0;31m         \u001b[0mepisode_experience\u001b[0m\u001b[0;34m.\u001b[0m\u001b[0mappend\u001b[0m\u001b[0;34m(\u001b[0m\u001b[0;34m[\u001b[0m\u001b[0mS\u001b[0m\u001b[0;34m[\u001b[0m\u001b[0;36m0\u001b[0m\u001b[0;34m]\u001b[0m\u001b[0;34m,\u001b[0m\u001b[0mS\u001b[0m\u001b[0;34m[\u001b[0m\u001b[0;36m1\u001b[0m\u001b[0;34m]\u001b[0m\u001b[0;34m,\u001b[0m\u001b[0mS\u001b[0m\u001b[0;34m[\u001b[0m\u001b[0;36m2\u001b[0m\u001b[0;34m]\u001b[0m\u001b[0;34m,\u001b[0m\u001b[0mS\u001b[0m\u001b[0;34m[\u001b[0m\u001b[0;36m3\u001b[0m\u001b[0;34m]\u001b[0m\u001b[0;34m,\u001b[0m\u001b[0mA\u001b[0m\u001b[0;34m,\u001b[0m\u001b[0mR\u001b[0m \u001b[0;34m+\u001b[0m \u001b[0mdiscount_factor\u001b[0m \u001b[0;34m*\u001b[0m \u001b[0mTarget\u001b[0m\u001b[0;34m]\u001b[0m\u001b[0;34m)\u001b[0m\u001b[0;34m\u001b[0m\u001b[0m\n\u001b[0m\u001b[1;32m     65\u001b[0m \u001b[0;34m\u001b[0m\u001b[0m\n\u001b[1;32m     66\u001b[0m         \u001b[0mS\u001b[0m \u001b[0;34m=\u001b[0m \u001b[0mS_new\u001b[0m\u001b[0;34m\u001b[0m\u001b[0m\n",
      "\u001b[0;31mNameError\u001b[0m: name 'episode_experience' is not defined"
     ]
    }
   ],
   "source": [
    "for i in range(276,episode):\n",
    "    \n",
    "    #replace the experience replay \n",
    "    if ((i+1) % 25) == 0:\n",
    "        episode_experience = episode_experience[-2000:]\n",
    "        \n",
    "        #replace old network with new network\n",
    "        agent_move.save_weights('./weight')\n",
    "        \n",
    "        agent_target.load_weights('./weight')\n",
    "        \n",
    "        agent_move.load_weights('./random_weight')\n",
    "    \n",
    "    if i == 0:\n",
    "        episode_experience = []\n",
    "    \n",
    "    \n",
    "    epsilon = 1 / (np.sqrt(i+10))\n",
    "    \n",
    "    S = env.reset()\n",
    "    S = S[0]\n",
    "    \n",
    "    A = np.random.choice([0,1,2,3,4])\n",
    "\n",
    "    for j in range(max_episode_length):\n",
    "        \n",
    "        observe = env.step(action_n=[A])\n",
    "        \n",
    "        # Reward clip so that it values from 1 to -1\n",
    "        R = observe[1][0] \n",
    "        \n",
    "        if R < -1.5:\n",
    "            R = -1\n",
    "        else :\n",
    "            R = (1.5 + R) / (1.5)\n",
    "        \n",
    "        S_new = observe[0][0]\n",
    "        \n",
    "        Test = np.array([[S_new[0],S_new[1],S_new[2],S_new[3], 0],\n",
    "                         [S_new[0],S_new[1],S_new[2],S_new[3], 1],\n",
    "                         [S_new[0],S_new[1],S_new[2],S_new[3], 2],\n",
    "                         [S_new[0],S_new[1],S_new[2],S_new[3], 3],\n",
    "                         [S_new[0],S_new[1],S_new[2],S_new[3], 4]])\n",
    "        \n",
    "        #value of all possible action from target network\n",
    "        all_action_value = agent_move.predict(Test)\n",
    "        \n",
    "        #chose action which is maximum value \n",
    "        A_new = np.argmax(all_action_value)\n",
    "        \n",
    "        \n",
    "        #epsilon - greedy \n",
    "        rand = np.random.uniform([0])\n",
    "        \n",
    "        if rand[0] > epsilon:\n",
    "            A_new = A_new\n",
    "        else :\n",
    "            A_new = np.random.choice([0,1,2,3,4])\n",
    "        \n",
    "        \n",
    "        Target = agent_target.predict(Test)[A_new][0]\n",
    "        \n",
    "        \n",
    "        episode_experience.append([S[0],S[1],S[2],S[3],A,R + discount_factor * Target])\n",
    "            \n",
    "        S = S_new\n",
    "        A = A_new\n",
    "        \n",
    "        if (j % (200)) == 0 :\n",
    "            env.reset()\n",
    "            \n",
    "            S = env.reset()\n",
    "            S = S[0]\n",
    "    \n",
    "            A = np.random.choice([0,1,2,3,4])\n",
    "    \n",
    "        if (i == 0 and j > 65) or (i > 0) :\n",
    "            minibatch = random.sample(episode_experience,64)\n",
    "    \n",
    "            Test = np.array(minibatch)\n",
    "        \n",
    "            agent_move.fit(Test[:,0:5], Test[:,5], epochs=3)\n",
    "    "
   ]
  },
  {
   "cell_type": "code",
   "execution_count": 26,
   "metadata": {},
   "outputs": [],
   "source": [
    "import time"
   ]
  },
  {
   "cell_type": "code",
   "execution_count": 36,
   "metadata": {},
   "outputs": [
    {
     "ename": "KeyboardInterrupt",
     "evalue": "",
     "output_type": "error",
     "traceback": [
      "\u001b[0;31m---------------------------------------------------------------------------\u001b[0m",
      "\u001b[0;31mKeyboardInterrupt\u001b[0m                         Traceback (most recent call last)",
      "\u001b[0;32m<ipython-input-36-afd31a6144ea>\u001b[0m in \u001b[0;36m<module>\u001b[0;34m()\u001b[0m\n\u001b[1;32m      8\u001b[0m \u001b[0magent_target\u001b[0m\u001b[0;34m.\u001b[0m\u001b[0mload_weights\u001b[0m\u001b[0;34m(\u001b[0m\u001b[0;34m'./weight'\u001b[0m\u001b[0;34m)\u001b[0m\u001b[0;34m\u001b[0m\u001b[0m\n\u001b[1;32m      9\u001b[0m \u001b[0;32mfor\u001b[0m \u001b[0m_\u001b[0m \u001b[0;32min\u001b[0m \u001b[0mrange\u001b[0m\u001b[0;34m(\u001b[0m\u001b[0;36m100\u001b[0m\u001b[0;34m)\u001b[0m\u001b[0;34m:\u001b[0m\u001b[0;34m\u001b[0m\u001b[0m\n\u001b[0;32m---> 10\u001b[0;31m     \u001b[0mtime\u001b[0m\u001b[0;34m.\u001b[0m\u001b[0msleep\u001b[0m\u001b[0;34m(\u001b[0m\u001b[0;36m.5\u001b[0m\u001b[0;34m)\u001b[0m\u001b[0;34m\u001b[0m\u001b[0m\n\u001b[0m\u001b[1;32m     11\u001b[0m     \u001b[0mobserve\u001b[0m \u001b[0;34m=\u001b[0m \u001b[0menv\u001b[0m\u001b[0;34m.\u001b[0m\u001b[0mstep\u001b[0m\u001b[0;34m(\u001b[0m\u001b[0maction_n\u001b[0m\u001b[0;34m=\u001b[0m\u001b[0;34m[\u001b[0m\u001b[0mA\u001b[0m\u001b[0;34m]\u001b[0m\u001b[0;34m)\u001b[0m\u001b[0;34m\u001b[0m\u001b[0m\n\u001b[1;32m     12\u001b[0m \u001b[0;34m\u001b[0m\u001b[0m\n",
      "\u001b[0;31mKeyboardInterrupt\u001b[0m: "
     ]
    }
   ],
   "source": [
    "\n",
    "S = env.reset()\n",
    "S = S[0]\n",
    "    \n",
    "A = np.random.choice([0,1,2,3,4])\n",
    "\n",
    "epsilon = 0.0\n",
    "agent_target.load_weights('./weight')\n",
    "for _ in range(100):\n",
    "    time.sleep(.5)\n",
    "    observe = env.step(action_n=[A])\n",
    "        \n",
    "    chek =  env.render(mode='Test')\n",
    "        \n",
    "    # Reward clip so that it values from 1 to -1\n",
    "    R = observe[1][0] \n",
    "        \n",
    "    if R < -1.5:\n",
    "        R = -1\n",
    "    else :\n",
    "        R = (1.5 + R) / (1.5)\n",
    "        \n",
    "    S_new = observe[0][0]\n",
    "        \n",
    "    Test = np.array([[S_new[0],S_new[1],S_new[2],S_new[3], 0],\n",
    "                    [S_new[0],S_new[1],S_new[2],S_new[3], 1],\n",
    "                    [S_new[0],S_new[1],S_new[2],S_new[3], 2],\n",
    "                    [S_new[0],S_new[1],S_new[2],S_new[3], 3],\n",
    "                    [S_new[0],S_new[1],S_new[2],S_new[3], 4]])\n",
    "    \n",
    "   \n",
    "    #value of all possible action from target network\n",
    "    all_action_value = agent_target.predict(Test)\n",
    "        \n",
    "    #chose action which is maximum value \n",
    "    A_new = np.argmax(all_action_value)\n",
    "    \n",
    "    rand = np.random.uniform([0])\n",
    "    if rand[0] > epsilon:\n",
    "            A_new = A_new\n",
    "    else :\n",
    "            A_new = np.random.choice([0,1,2,3,4])\n",
    "    \n",
    "    S = S_new\n",
    "    A = A_new\n",
    "        "
   ]
  },
  {
   "cell_type": "code",
   "execution_count": null,
   "metadata": {},
   "outputs": [],
   "source": [
    "env2 = world.make_env('simple_adversary')"
   ]
  },
  {
   "cell_type": "code",
   "execution_count": null,
   "metadata": {},
   "outputs": [],
   "source": [
    "env2.render(\"test\")"
   ]
  },
  {
   "cell_type": "code",
   "execution_count": null,
   "metadata": {},
   "outputs": [],
   "source": [
    "agent2 = env2.agents"
   ]
  },
  {
   "cell_type": "code",
   "execution_count": null,
   "metadata": {},
   "outputs": [],
   "source": [
    "env2.render('Test')\n",
    "env.step(action_n=[3])"
   ]
  },
  {
   "cell_type": "code",
   "execution_count": null,
   "metadata": {
    "scrolled": true
   },
   "outputs": [],
   "source": [
    "for i in range(100):\n",
    "    if (i%10) == 0:\n",
    "        print(i,'1')\n",
    "    \n",
    "    if ((i+1) % 10) == 0:\n",
    "        print(i, '2')"
   ]
  },
  {
   "cell_type": "code",
   "execution_count": null,
   "metadata": {},
   "outputs": [],
   "source": [
    "env.reset()"
   ]
  },
  {
   "cell_type": "code",
   "execution_count": 28,
   "metadata": {},
   "outputs": [
    {
     "data": {
      "text/plain": [
       "99"
      ]
     },
     "execution_count": 28,
     "metadata": {},
     "output_type": "execute_result"
    }
   ],
   "source": [
    "i"
   ]
  },
  {
   "cell_type": "code",
   "execution_count": null,
   "metadata": {},
   "outputs": [],
   "source": [
    "episode = [[1,2],[2,4],[3,1],[4,2]]"
   ]
  },
  {
   "cell_type": "code",
   "execution_count": null,
   "metadata": {},
   "outputs": [],
   "source": [
    "time.sleep(3)"
   ]
  },
  {
   "cell_type": "code",
   "execution_count": null,
   "metadata": {},
   "outputs": [],
   "source": [
    "random.sample(episode,3)"
   ]
  },
  {
   "cell_type": "code",
   "execution_count": null,
   "metadata": {},
   "outputs": [],
   "source": [
    "i"
   ]
  },
  {
   "cell_type": "code",
   "execution_count": null,
   "metadata": {},
   "outputs": [],
   "source": []
  }
 ],
 "metadata": {
  "kernelspec": {
   "display_name": "Python 3",
   "language": "python",
   "name": "python3"
  },
  "language_info": {
   "codemirror_mode": {
    "name": "ipython",
    "version": 3
   },
   "file_extension": ".py",
   "mimetype": "text/x-python",
   "name": "python",
   "nbconvert_exporter": "python",
   "pygments_lexer": "ipython3",
   "version": "3.6.6"
  }
 },
 "nbformat": 4,
 "nbformat_minor": 2
}
