{
  "nbformat": 4,
  "nbformat_minor": 0,
  "metadata": {
    "colab": {
      "name": "Multi_agent_planning.ipynb",
      "version": "0.3.2",
      "provenance": [],
      "collapsed_sections": [],
      "include_colab_link": true
    },
    "kernelspec": {
      "name": "python3",
      "display_name": "Python 3"
    },
    "accelerator": "GPU"
  },
  "cells": [
    {
      "cell_type": "markdown",
      "metadata": {
        "id": "view-in-github",
        "colab_type": "text"
      },
      "source": [
        "<a href=\"https://colab.research.google.com/github/HemantharajM/Reinforcement-Learning-Intro-to-expect/blob/master/Multi_agent_planning.ipynb\" target=\"_parent\"><img src=\"https://colab.research.google.com/assets/colab-badge.svg\" alt=\"Open In Colab\"/></a>"
      ]
    },
    {
      "cell_type": "code",
      "metadata": {
        "id": "bmknuX_Phmq2",
        "colab_type": "code",
        "colab": {}
      },
      "source": [
        "import sys\n",
        "import matplotlib.pyplot as plt\n",
        "import numpy as np\n",
        "import torch\n",
        "from torch import autograd\n",
        "from torch.utils.data import DataLoader\n",
        "from torch.nn.parameter import Parameter\n",
        "\n",
        "import torch.nn.functional as F"
      ],
      "execution_count": 0,
      "outputs": []
    },
    {
      "cell_type": "code",
      "metadata": {
        "id": "PIK5QJI4NN51",
        "colab_type": "code",
        "outputId": "ee08f05b-989f-4554-9396-c12cc54e36ce",
        "colab": {
          "base_uri": "https://localhost:8080/",
          "height": 34
        }
      },
      "source": [
        "!ls"
      ],
      "execution_count": 4,
      "outputs": [
        {
          "output_type": "stream",
          "text": [
            "sample_data\n"
          ],
          "name": "stdout"
        }
      ]
    },
    {
      "cell_type": "code",
      "metadata": {
        "id": "X42d4TX1iLxY",
        "colab_type": "code",
        "outputId": "b13c4f28-2c8a-4842-bd8c-1c927787c1ee",
        "colab": {
          "resources": {
            "http://localhost:8080/nbextensions/google.colab/files.js": {
              "data": "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",
              "ok": true,
              "headers": [
                [
                  "content-type",
                  "application/javascript"
                ]
              ],
              "status": 200,
              "status_text": ""
            }
          },
          "base_uri": "https://localhost:8080/",
          "height": 213
        }
      },
      "source": [
        "from google.colab import files\n",
        "uploaded = files.upload()"
      ],
      "execution_count": 6,
      "outputs": [
        {
          "output_type": "display_data",
          "data": {
            "text/html": [
              "\n",
              "     <input type=\"file\" id=\"files-892f8a32-1415-49e9-ab00-1438ac1d3115\" name=\"files[]\" multiple disabled />\n",
              "     <output id=\"result-892f8a32-1415-49e9-ab00-1438ac1d3115\">\n",
              "      Upload widget is only available when the cell has been executed in the\n",
              "      current browser session. Please rerun this cell to enable.\n",
              "      </output>\n",
              "      <script src=\"/nbextensions/google.colab/files.js\"></script> "
            ],
            "text/plain": [
              "<IPython.core.display.HTML object>"
            ]
          },
          "metadata": {
            "tags": []
          }
        },
        {
          "output_type": "stream",
          "text": [
            "Saving Env_28x28.npz to Env_28x28.npz\n",
            "Saving Env_32x32.npz to Env_32x32.npz\n",
            "Saving Env_64x64.npz to Env_64x64.npz\n",
            "Saving Env_80x80.npz to Env_80x80.npz\n",
            "Saving Env_128x128.npz to Env_128x128.npz\n"
          ],
          "name": "stdout"
        }
      ]
    },
    {
      "cell_type": "code",
      "metadata": {
        "id": "4OfSg3OHroSs",
        "colab_type": "code",
        "colab": {}
      },
      "source": [
        "def action(S,val):\n",
        "    if val == 0:\n",
        "        return torch.tensor([S[0].item(),S[1].item()-1])\n",
        "    elif val == 1:\n",
        "        return torch.tensor([S[0].item()-1,S[1].item()])\n",
        "    elif val == 2:\n",
        "        return torch.tensor([S[0].item(),S[1].item()+1])\n",
        "    elif val == 3:\n",
        "        return torch.tensor([S[0].item()+1,S[1].item()])\n",
        "    else :\n",
        "        return S"
      ],
      "execution_count": 0,
      "outputs": []
    },
    {
      "cell_type": "code",
      "metadata": {
        "id": "U_uTgBOqrnv8",
        "colab_type": "code",
        "colab": {}
      },
      "source": [
        "def rand_play(X,a_s,imsize):\n",
        "    #find possible action\n",
        "    Action = []\n",
        "    \n",
        "    if (a_s[1] -1) >= 0:\n",
        "        if X[0][a_s[0]][a_s[1]-1] and (not X[2][a_s[0]][a_s[1]-1]):\n",
        "            Action.append(0)\n",
        "    if (a_s[0] -1 ) >= 0:\n",
        "        if X[0][a_s[0]-1][a_s[1]] and (not X[2][a_s[0]-1][a_s[1]]):\n",
        "            Action.append(1)\n",
        "    if (a_s[1] +1 ) < imsize:\n",
        "        if X[0][a_s[0]][a_s[1]+1] and (not X[2][a_s[0]][a_s[1]+1]):\n",
        "            Action.append(2)\n",
        "    if (a_s[0] + 1) < imsize:    \n",
        "        if X[0][a_s[0]+1][a_s[1]] and (not X[2][a_s[0]+1][a_s[1]]):\n",
        "            Action.append(3)\n",
        "    \n",
        "    if len(Action) != 0:\n",
        "        act = np.random.choice(Action)\n",
        "        new_state = action(a_s,act)\n",
        "    else:\n",
        "        new_state = a_s\n",
        "    \n",
        "    return new_state"
      ],
      "execution_count": 0,
      "outputs": []
    },
    {
      "cell_type": "code",
      "metadata": {
        "id": "AqwQWBrDr5on",
        "colab_type": "code",
        "colab": {}
      },
      "source": [
        "def goal_reach_check(agent_state,goal,goal_count,goal_reached):\n",
        "    token = 0\n",
        "    v = 0\n",
        "    for z in goal:\n",
        "        #check goal is already reached\n",
        "        if goal_reached[v] == 0:\n",
        "            #if goal is not reached and compare with agent state\n",
        "            if agent_state[0].item() == z[0] and agent_state[1].item() == z[1]:\n",
        "                goal_reached[v] = 1\n",
        "                goal_count += 1\n",
        "                token = 1\n",
        "        v = v+1    \n",
        "    return token,goal_count,goal_reached"
      ],
      "execution_count": 0,
      "outputs": []
    },
    {
      "cell_type": "code",
      "metadata": {
        "id": "_HBTC5hUsFoy",
        "colab_type": "code",
        "colab": {}
      },
      "source": [
        "def agent_predict(model,dom,goal,imsize,max_random_play):\n",
        "    \n",
        "    X = dom.clone()\n",
        "    model.eval() \n",
        "    correct_goal,total_goal,traj_step_error,goal_count = 0.0,0.0,0.0,0.0\n",
        "    \n",
        "    #store agent initial state\n",
        "    inter = np.where(X[2] == 1.0)\n",
        "    agent_state = np.column_stack([inter[0],inter[1]])\n",
        "    n_agent = agent_state.shape[0]\n",
        "    \n",
        "    agent_traj = [[agent_state[i].copy()] for i in range(n_agent)]\n",
        "    \n",
        "    #store number agent still playing\n",
        "    current_play_agent = [1.0 for i in range(n_agent)]\n",
        "    \n",
        "    current_play_agent = np.array(current_play_agent)\n",
        "    \n",
        "    #keep which is reached\n",
        "    goal_reached = np.zeros([goal.size])\n",
        "    \n",
        "    #store each agent random play chances\n",
        "    random_play = np.zeros(n_agent)\n",
        "    max_random_play = max_random_play\n",
        "    \n",
        "\n",
        "    #run untill all player finish\n",
        "    while current_play_agent.sum() != 0.0: \n",
        "        for i in range(n_agent):\n",
        "            \n",
        "            if current_play_agent[i] == 1.0:    \n",
        "                S1 = torch.tensor(agent_state[i][0])\n",
        "                S2 = torch.tensor(agent_state[i][1])\n",
        "                S1 = S1.to(device)\n",
        "                S2 = S2.to(device)\n",
        "                Input = X.clone()\n",
        "                Input = Input.reshape([1,3,imsize,imsize])\n",
        "                Input = Input.float()\n",
        "                \n",
        "                Input = Input.to(device)\n",
        "                \n",
        "                output,prediction = model(Input,S1,S2)\n",
        "                _,index = torch.max(output,dim=1)\n",
        "                #check agent (index = 4) means stop planning\n",
        "                if index == 4:\n",
        "                    #token whether agent reach goal or not\n",
        "                    token,goal_count,goal_reached = goal_reach_check(agent_state[i],goal,goal_count,goal_reached)\n",
        "                    if token:\n",
        "                        current_play_agent[i] = 0.0\n",
        "                    else:\n",
        "                        if random_play[i] > max_random_play:\n",
        "                            current_play_agent[i] = 0.0\n",
        "                        else:\n",
        "                            X[2][agent_state[i][0]][agent_state[i][1]] = 0.0\n",
        "                            agent_state[i] =rand_play(X,agent_state[i].copy(),imsize)\n",
        "                            random_play[i] += 1\n",
        "                            X[2][agent_state[i][0]][agent_state[i][1]] = 1.0\n",
        "                            agent_traj[i].append(agent_state[i].copy())\n",
        "    \n",
        "                else:\n",
        "                    X[2][agent_state[i][0]][agent_state[i][1]] = 0.0\n",
        "                    agent_state[i] = action(agent_state[i],index)\n",
        "                    \n",
        "                    #check agent reach any obstacle and push it into stop\n",
        "                    i_1 = agent_state[i][0]\n",
        "                    i_2 = agent_state[i][1]\n",
        "                    if X[0][i_1][i_2].item() == 0.0 and X[1][i_1][i_2].item() == 0.0:\n",
        "                        current_play_agent[i] = 0.0\n",
        "                        \n",
        "                    X[2][agent_state[i][0]][agent_state[i][1]] = 1.0\n",
        "                    agent_traj[i].append(agent_state[i].copy())\n",
        "                    \n",
        "                    #stop agent which moves back and forward two on the goal\n",
        "                    if len(agent_traj[i]) > 3 and (agent_traj[i][-1] == agent_traj[i][-3]).sum() == 2 and (agent_traj[i][-2] == agent_traj[i][-4]).sum() == 2:\n",
        "                        \n",
        "                        inter = agent_traj[i][-1]\n",
        "                        token,goal_count,goal_reached = goal_reach_check(inter,goal,goal_count,goal_reached)\n",
        "                        if token:\n",
        "                            current_play_agent[i] = 0.0\n",
        "                        else:     \n",
        "                            inter = agent_traj[i][-2]\n",
        "                            token,goal_count,goal_reached = goal_reach_check(inter,goal,goal_count,goal_reached)\n",
        "                            if token:\n",
        "                                current_play_agent[i] = 0.0\n",
        "                                agent_traj[i].pop(-1)\n",
        "                            else:\n",
        "                                if random_play[i] < max_random_play:\n",
        "                                    X[2][agent_state[i][0]][agent_state[i][1]] = 0.0\n",
        "                                    agent_state[i] =rand_play(X,agent_state[i].copy(),imsize)\n",
        "                                    random_play[i] += 1\n",
        "                                    X[2][agent_state[i][0]][agent_state[i][1]] = 1.0\n",
        "                                    agent_traj[i].append(agent_state[i].copy())\n",
        "                                else:\n",
        "                                    current_play_agent[i] = 0.0\n",
        "                    \n",
        "    \n",
        "    correct_goal = goal_count\n",
        "    \n",
        "    if n_agent > len(goal):\n",
        "        total_goal = len(goal)\n",
        "    else:\n",
        "        total_goal =  n_agent\n",
        "    \n",
        "    return correct_goal,total_goal,agent_traj"
      ],
      "execution_count": 0,
      "outputs": []
    },
    {
      "cell_type": "code",
      "metadata": {
        "id": "IKLocIB0sOmh",
        "colab_type": "code",
        "colab": {}
      },
      "source": [
        "class MA_VIN(torch.nn.Module):\n",
        "    def __init__(self, k,imsize):\n",
        "        super(MA_VIN, self).__init__()\n",
        "        self.k = k\n",
        "        self.h = torch.nn.Conv2d(\n",
        "            in_channels=3,\n",
        "            out_channels=150,\n",
        "            kernel_size=(3, 3),\n",
        "            stride=1,\n",
        "            padding=1,\n",
        "            bias=True)\n",
        "        self.r = torch.nn.Conv2d(\n",
        "            in_channels=150,\n",
        "            out_channels=1,\n",
        "            kernel_size=(1, 1),\n",
        "            stride=1,\n",
        "            padding=0,\n",
        "            bias=False)\n",
        "        self.q = torch.nn.Conv2d(\n",
        "            in_channels=1,\n",
        "            out_channels=5,\n",
        "            kernel_size=(3, 3),\n",
        "            stride=1,\n",
        "            padding=1,\n",
        "            bias=False)\n",
        "        self.fc_1 = torch.nn.Linear(in_features=5, out_features=5, bias=True)\n",
        "        self.w = Parameter(torch.zeros(5, 1, 3, 3), requires_grad=True)\n",
        "        self.sm = torch.nn.Softmax(dim=1)\n",
        "\n",
        "    def forward(self, X, S1, S2):\n",
        "        h = self.h(X)\n",
        "        r = self.r(h)\n",
        "        q = self.q(r)\n",
        "        v, _ = torch.max(q, dim=1, keepdim=True)\n",
        "        for i in range(0, self.k - 1):\n",
        "            q = F.conv2d(\n",
        "                torch.cat([r, v], 1),\n",
        "                torch.cat([self.q.weight, self.w], 1),\n",
        "                stride=1,\n",
        "                padding=1)\n",
        "            v, _ = torch.max(q, dim=1, keepdim=True)\n",
        "\n",
        "        q = F.conv2d(\n",
        "            torch.cat([r, v], 1),\n",
        "            torch.cat([self.q.weight, self.w], 1),\n",
        "            stride=1,\n",
        "            padding=1)\n",
        "\n",
        "        slice_s1 = S1.long().expand(imsize, 1, 5, q.size(0))\n",
        "        slice_s1 = slice_s1.permute(3, 2, 1, 0)\n",
        "        q_out = q.gather(2, slice_s1).squeeze(2)\n",
        "\n",
        "        slice_s2 = S2.long().expand(1, 5, q.size(0))\n",
        "        slice_s2 = slice_s2.permute(2, 1, 0)\n",
        "        q_out = q_out.gather(2, slice_s2).squeeze(2)\n",
        "\n",
        "        logits = self.fc_1(q_out)\n",
        "        \n",
        "        return logits, self.sm(logits)"
      ],
      "execution_count": 0,
      "outputs": []
    },
    {
      "cell_type": "code",
      "metadata": {
        "id": "ZwmNSSPWh3Ca",
        "colab_type": "code",
        "colab": {}
      },
      "source": [
        "test = []\n",
        "with np.load('Env_28x28.npz', mmap_mode='r') as f:\n",
        "    test = f['arr_0']\n"
      ],
      "execution_count": 0,
      "outputs": []
    },
    {
      "cell_type": "code",
      "metadata": {
        "id": "oIuolj8sorFh",
        "colab_type": "code",
        "colab": {}
      },
      "source": [
        "test_data = []\n",
        "\n",
        "for i in test:\n",
        "    env = -1 *(i[0] == 0) + 1.0\n",
        "    goal = (i[0] == 0.5) + 0.0\n",
        "    Agent = i[1]\n",
        "    domain = np.array([env,goal,Agent])\n",
        "    \n",
        "    test_data.append([torch.tensor(domain.copy())])\n",
        "    "
      ],
      "execution_count": 0,
      "outputs": []
    },
    {
      "cell_type": "code",
      "metadata": {
        "id": "wddAvGtNwG0M",
        "colab_type": "code",
        "colab": {
          "base_uri": "https://localhost:8080/",
          "height": 34
        },
        "outputId": "6e8621d3-3a74-47c9-8cfc-335de0bbb2b9"
      },
      "source": [
        "model_28x28 = MA_VIN(60,28)\n",
        "model_28x28.load_state_dict(torch.load('MA_VIN_6.pth'))"
      ],
      "execution_count": 30,
      "outputs": [
        {
          "output_type": "execute_result",
          "data": {
            "text/plain": [
              "IncompatibleKeys(missing_keys=[], unexpected_keys=[])"
            ]
          },
          "metadata": {
            "tags": []
          },
          "execution_count": 30
        }
      ]
    },
    {
      "cell_type": "code",
      "metadata": {
        "id": "KlKpwmN2po4b",
        "colab_type": "code",
        "colab": {
          "base_uri": "https://localhost:8080/",
          "height": 140
        },
        "outputId": "412e5b13-91f8-46ad-82c2-c57158e033dc"
      },
      "source": [
        "model_28x28.cuda()"
      ],
      "execution_count": 31,
      "outputs": [
        {
          "output_type": "execute_result",
          "data": {
            "text/plain": [
              "MA_VIN(\n",
              "  (h): Conv2d(3, 150, kernel_size=(3, 3), stride=(1, 1), padding=(1, 1))\n",
              "  (r): Conv2d(150, 1, kernel_size=(1, 1), stride=(1, 1), bias=False)\n",
              "  (q): Conv2d(1, 5, kernel_size=(3, 3), stride=(1, 1), padding=(1, 1), bias=False)\n",
              "  (fc_1): Linear(in_features=5, out_features=5, bias=True)\n",
              "  (sm): Softmax()\n",
              ")"
            ]
          },
          "metadata": {
            "tags": []
          },
          "execution_count": 31
        }
      ]
    },
    {
      "cell_type": "code",
      "metadata": {
        "id": "NVJVU1wutWkL",
        "colab_type": "code",
        "colab": {}
      },
      "source": [
        "device = torch.device(\"cuda:0\" if torch.cuda.is_available() else \"CPU\")"
      ],
      "execution_count": 0,
      "outputs": []
    },
    {
      "cell_type": "code",
      "metadata": {
        "id": "5u-fc-Ixp0VZ",
        "colab_type": "code",
        "colab": {
          "base_uri": "https://localhost:8080/",
          "height": 52
        },
        "outputId": "4b20c4d2-b4c1-433a-d5c9-319983ce14c3"
      },
      "source": [
        "correct_goal,total_goal = 0.0,0.0   \n",
        "imsize = 28\n",
        "max_rand_play= 5\n",
        "for i in range(50):\n",
        "    X = test_data[i][0].clone()\n",
        "    \n",
        "    go = np.where(X[1] == 1.0)\n",
        "    goal = np.column_stack([go[0],go[1]])\n",
        "    \n",
        "        \n",
        "    current_goal,current_total,traj = agent_predict(model_28x28,X.clone(),goal,imsize,max_rand_play)\n",
        "    \n",
        "    correct_goal += current_goal\n",
        "    total_goal += current_total\n",
        "    \n",
        "print(f'Goal Accuracy: {correct_goal/total_goal}')\n",
        "print(correct_goal,total_goal)"
      ],
      "execution_count": 46,
      "outputs": [
        {
          "output_type": "stream",
          "text": [
            "Goal Accuracy: 0.7053571428571429\n",
            "158.0 224.0\n"
          ],
          "name": "stdout"
        }
      ]
    },
    {
      "cell_type": "code",
      "metadata": {
        "id": "n6eRGJO1w24N",
        "colab_type": "code",
        "colab": {}
      },
      "source": [
        "test = []\n",
        "with np.load('Env_64x64.npz', mmap_mode='r') as f:\n",
        "    test = f['arr_0']"
      ],
      "execution_count": 0,
      "outputs": []
    },
    {
      "cell_type": "markdown",
      "metadata": {
        "id": "xiPZmVPEvJE6",
        "colab_type": "text"
      },
      "source": [
        ""
      ]
    },
    {
      "cell_type": "code",
      "metadata": {
        "id": "fhS_YSQRp3Yi",
        "colab_type": "code",
        "colab": {}
      },
      "source": [
        "test_data = []\n",
        "\n",
        "for i in test:\n",
        "    env = -1 *(i[0] == 0) + 1.0\n",
        "    goal = (i[0] == 0.5) + 0.0\n",
        "    Agent = i[1]\n",
        "    domain = np.array([env,goal,Agent])\n",
        "    \n",
        "    test_data.append([torch.tensor(domain.copy())])"
      ],
      "execution_count": 0,
      "outputs": []
    },
    {
      "cell_type": "code",
      "metadata": {
        "id": "NscQbBuKp-WI",
        "colab_type": "code",
        "colab": {
          "base_uri": "https://localhost:8080/",
          "height": 34
        },
        "outputId": "2476d0da-9bc8-4551-ba93-613009561b7d"
      },
      "source": [
        "model_64x64 = MA_VIN(125,64)\n",
        "model_64x64.load_state_dict(torch.load('MA_VIN_6.pth'))"
      ],
      "execution_count": 72,
      "outputs": [
        {
          "output_type": "execute_result",
          "data": {
            "text/plain": [
              "IncompatibleKeys(missing_keys=[], unexpected_keys=[])"
            ]
          },
          "metadata": {
            "tags": []
          },
          "execution_count": 72
        }
      ]
    },
    {
      "cell_type": "code",
      "metadata": {
        "id": "XzPz0uF3qFMp",
        "colab_type": "code",
        "colab": {
          "base_uri": "https://localhost:8080/",
          "height": 140
        },
        "outputId": "94950c78-8c20-4c55-d11f-810d8f384f2b"
      },
      "source": [
        "model_64x64.cuda()"
      ],
      "execution_count": 73,
      "outputs": [
        {
          "output_type": "execute_result",
          "data": {
            "text/plain": [
              "MA_VIN(\n",
              "  (h): Conv2d(3, 150, kernel_size=(3, 3), stride=(1, 1), padding=(1, 1))\n",
              "  (r): Conv2d(150, 1, kernel_size=(1, 1), stride=(1, 1), bias=False)\n",
              "  (q): Conv2d(1, 5, kernel_size=(3, 3), stride=(1, 1), padding=(1, 1), bias=False)\n",
              "  (fc_1): Linear(in_features=5, out_features=5, bias=True)\n",
              "  (sm): Softmax()\n",
              ")"
            ]
          },
          "metadata": {
            "tags": []
          },
          "execution_count": 73
        }
      ]
    },
    {
      "cell_type": "code",
      "metadata": {
        "id": "eEXvKpJdq5Bj",
        "colab_type": "code",
        "colab": {
          "base_uri": "https://localhost:8080/",
          "height": 52
        },
        "outputId": "0af006f3-4c4b-446c-84f2-221447d1a6b8"
      },
      "source": [
        "correct_goal,total_goal = 0.0,0.0   \n",
        "imsize = 64\n",
        "max_rand_play= 5\n",
        "for i in range(50):\n",
        "    X = test_data[i][0].clone()\n",
        "    \n",
        "    go = np.where(X[1] == 1.0)\n",
        "    goal = np.column_stack([go[0],go[1]])\n",
        "    \n",
        "        \n",
        "    current_goal,current_total,traj = agent_predict(model_64x64,X.clone(),goal,imsize,max_rand_play)\n",
        "    \n",
        "    correct_goal += current_goal\n",
        "    total_goal += current_total\n",
        "    \n",
        "print(f'Goal Accuracy: {correct_goal/total_goal}')\n",
        "print(correct_goal,total_goal)"
      ],
      "execution_count": 74,
      "outputs": [
        {
          "output_type": "stream",
          "text": [
            "Goal Accuracy: 0.5185185185185185\n",
            "112.0 216.0\n"
          ],
          "name": "stdout"
        }
      ]
    },
    {
      "cell_type": "code",
      "metadata": {
        "id": "9QW9HhxHr1bB",
        "colab_type": "code",
        "colab": {}
      },
      "source": [
        "test = []\n",
        "with np.load('Env_80x80.npz', mmap_mode='r') as f:\n",
        "    test = f['arr_0']"
      ],
      "execution_count": 0,
      "outputs": []
    },
    {
      "cell_type": "code",
      "metadata": {
        "id": "CLufApGor-U-",
        "colab_type": "code",
        "colab": {}
      },
      "source": [
        "test_data = []\n",
        "\n",
        "for i in test:\n",
        "    env = -1 *(i[0] == 0) + 1.0\n",
        "    goal = (i[0] == 0.5) + 0.0\n",
        "    Agent = i[1]\n",
        "    domain = np.array([env,goal,Agent])\n",
        "    \n",
        "    test_data.append([torch.tensor(domain.copy())])"
      ],
      "execution_count": 0,
      "outputs": []
    },
    {
      "cell_type": "code",
      "metadata": {
        "id": "7y3rdWcE4WNt",
        "colab_type": "code",
        "outputId": "2ffc17fa-900f-427a-9e49-9e88a4feb450",
        "colab": {
          "base_uri": "https://localhost:8080/",
          "height": 140
        }
      },
      "source": [
        "model_80x80 = MA_VIN(135,80)\n",
        "model_80x80.load_state_dict(torch.load('MA_VIN_6.pth'))\n",
        "model_80x80.cuda()"
      ],
      "execution_count": 88,
      "outputs": [
        {
          "output_type": "execute_result",
          "data": {
            "text/plain": [
              "MA_VIN(\n",
              "  (h): Conv2d(3, 150, kernel_size=(3, 3), stride=(1, 1), padding=(1, 1))\n",
              "  (r): Conv2d(150, 1, kernel_size=(1, 1), stride=(1, 1), bias=False)\n",
              "  (q): Conv2d(1, 5, kernel_size=(3, 3), stride=(1, 1), padding=(1, 1), bias=False)\n",
              "  (fc_1): Linear(in_features=5, out_features=5, bias=True)\n",
              "  (sm): Softmax()\n",
              ")"
            ]
          },
          "metadata": {
            "tags": []
          },
          "execution_count": 88
        }
      ]
    },
    {
      "cell_type": "code",
      "metadata": {
        "id": "UD58oeX1slhw",
        "colab_type": "code",
        "outputId": "862536a2-44b6-4b23-ed10-058e85e04491",
        "colab": {
          "base_uri": "https://localhost:8080/",
          "height": 52
        }
      },
      "source": [
        "correct_goal,total_goal = 0.0,0.0   \n",
        "imsize = 80\n",
        "max_rand_play= 5\n",
        "for i in range(50):\n",
        "    X = test_data[i][0].clone()\n",
        "    \n",
        "    go = np.where(X[1] == 1.0)\n",
        "    goal = np.column_stack([go[0],go[1]])\n",
        "    \n",
        "        \n",
        "    current_goal,current_total,traj = agent_predict(model_80x80,X.clone(),goal,imsize,max_rand_play)\n",
        "    \n",
        "    correct_goal += current_goal\n",
        "    total_goal += current_total\n",
        "    \n",
        "print(f'Goal Accuracy: {correct_goal/total_goal}')\n",
        "print(correct_goal,total_goal)"
      ],
      "execution_count": 89,
      "outputs": [
        {
          "output_type": "stream",
          "text": [
            "Goal Accuracy: 0.49324324324324326\n",
            "146.0 296.0\n"
          ],
          "name": "stdout"
        }
      ]
    },
    {
      "cell_type": "code",
      "metadata": {
        "id": "xH6TTqRq5MRj",
        "colab_type": "code",
        "colab": {}
      },
      "source": [
        "test = []\n",
        "with np.load('Env_128x128.npz', mmap_mode='r') as f:\n",
        "    test = f['arr_0']"
      ],
      "execution_count": 0,
      "outputs": []
    },
    {
      "cell_type": "code",
      "metadata": {
        "id": "z-ART3Dj7OYH",
        "colab_type": "code",
        "colab": {}
      },
      "source": [
        "test_data = []\n",
        "\n",
        "for i in test:\n",
        "    env = -1 *(i[0] == 0) + 1.0\n",
        "    goal = (i[0] == 0.5) + 0.0\n",
        "    Agent = i[1]\n",
        "    domain = np.array([env,goal,Agent])\n",
        "    \n",
        "    test_data.append([torch.tensor(domain.copy())])"
      ],
      "execution_count": 0,
      "outputs": []
    },
    {
      "cell_type": "code",
      "metadata": {
        "id": "3RNgthkCIVHP",
        "colab_type": "code",
        "colab": {
          "base_uri": "https://localhost:8080/",
          "height": 140
        },
        "outputId": "0e4890a1-51f7-42c0-e3c9-c248968e4406"
      },
      "source": [
        "model_128x128 = MA_VIN(190,128)\n",
        "model_128x128.load_state_dict(torch.load('MA_VIN_6.pth'))\n",
        "model_128x128.cuda()"
      ],
      "execution_count": 98,
      "outputs": [
        {
          "output_type": "execute_result",
          "data": {
            "text/plain": [
              "MA_VIN(\n",
              "  (h): Conv2d(3, 150, kernel_size=(3, 3), stride=(1, 1), padding=(1, 1))\n",
              "  (r): Conv2d(150, 1, kernel_size=(1, 1), stride=(1, 1), bias=False)\n",
              "  (q): Conv2d(1, 5, kernel_size=(3, 3), stride=(1, 1), padding=(1, 1), bias=False)\n",
              "  (fc_1): Linear(in_features=5, out_features=5, bias=True)\n",
              "  (sm): Softmax()\n",
              ")"
            ]
          },
          "metadata": {
            "tags": []
          },
          "execution_count": 98
        }
      ]
    },
    {
      "cell_type": "code",
      "metadata": {
        "id": "Frbvydpp59Y_",
        "colab_type": "code",
        "colab": {
          "base_uri": "https://localhost:8080/",
          "height": 52
        },
        "outputId": "37d1dbef-f95d-4828-eebe-fb5924ef0f67"
      },
      "source": [
        "correct_goal,total_goal = 0.0,0.0   \n",
        "imsize = 128\n",
        "max_rand_play= 5\n",
        "for i in range(50):\n",
        "    X = test_data[i][0].clone()\n",
        "    \n",
        "    go = np.where(X[1] == 1.0)\n",
        "    goal = np.column_stack([go[0],go[1]])\n",
        "    \n",
        "        \n",
        "    current_goal,current_total,traj = agent_predict(model_128x128,X.clone(),goal,imsize,max_rand_play)\n",
        "    \n",
        "    correct_goal += current_goal\n",
        "    total_goal += current_total\n",
        "    \n",
        "print(f'Goal Accuracy: {correct_goal/total_goal}')\n",
        "print(correct_goal,total_goal)"
      ],
      "execution_count": 99,
      "outputs": [
        {
          "output_type": "stream",
          "text": [
            "Goal Accuracy: 0.34814814814814815\n",
            "141.0 405.0\n"
          ],
          "name": "stdout"
        }
      ]
    },
    {
      "cell_type": "code",
      "metadata": {
        "id": "IPxcXeL56G9T",
        "colab_type": "code",
        "colab": {}
      },
      "source": [
        ""
      ],
      "execution_count": 0,
      "outputs": []
    }
  ]
}