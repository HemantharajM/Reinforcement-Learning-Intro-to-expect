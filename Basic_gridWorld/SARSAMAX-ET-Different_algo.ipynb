{
 "cells": [
  {
   "cell_type": "markdown",
   "metadata": {},
   "source": [
    "#### SARSAMAX"
   ]
  },
  {
   "cell_type": "code",
   "execution_count": 159,
   "metadata": {
    "collapsed": true
   },
   "outputs": [],
   "source": [
    "from graphics import *\n",
    "import random\n",
    "import numpy as np\n",
    "from math import sqrt\n",
    "from math import log10\n",
    "import matplotlib.pyplot as plt\n",
    "import queue\n",
    "import time"
   ]
  },
  {
   "cell_type": "markdown",
   "metadata": {},
   "source": [
    "#### Create necessary function for the execution of Eligibility Traces algorithm"
   ]
  },
  {
   "cell_type": "code",
   "execution_count": 2,
   "metadata": {
    "collapsed": true
   },
   "outputs": [],
   "source": [
    "class Node:\n",
    "    def __init__(self, x=None, y=None, z=None):\n",
    "        self.x = x\n",
    "        self.y = y\n",
    "        self.z = z"
   ]
  },
  {
   "cell_type": "code",
   "execution_count": 3,
   "metadata": {
    "collapsed": true
   },
   "outputs": [],
   "source": [
    "class Queue:\n",
    "    #create fixed size queue\n",
    "    def __init__(self,maxsize = 0):\n",
    "        self.maxsize = maxsize\n",
    "        self.queue = []\n",
    "        self.front = 0\n",
    "        self.rear = 0\n",
    "    \n",
    "    #check queue is empty\n",
    "    def empty(self):\n",
    "        if self.front == self.rear:\n",
    "            return True\n",
    "        else:\n",
    "            return False\n",
    "    \n",
    "    #check queue is full\n",
    "    def full(self):\n",
    "        if self.front > self.rear  and self.front == (self.rear + 1):\n",
    "            return True\n",
    "        elif self.front == 0 and self.rear == (self.maxsize-1):\n",
    "            return True\n",
    "        else :\n",
    "            return False\n",
    "    \n",
    "    #Enqueue operation\n",
    "    def enqueue(self,data):\n",
    "        if not self.full():\n",
    "            if len(self.queue) == self.maxsize:\n",
    "                self.queue[self.rear] = data\n",
    "                self.rear = (self.rear + 1) % self.maxsize\n",
    "            else:\n",
    "                self.queue.append(data)\n",
    "                self.rear = (self.rear + 1) % self.maxsize\n",
    "    \n",
    "    #Dequeue operation\n",
    "    def dequeue(self):\n",
    "        if not self.empty():\n",
    "            value = self.queue[self.front]\n",
    "            self.front = (self.front + 1) % self.maxsize\n",
    "            return value\n",
    "    \n",
    "    #Peak operation view all the element\n",
    "    def peak(self):\n",
    "        if self.empty():\n",
    "            return []\n",
    "        \n",
    "        if self.rear > self.front:\n",
    "            value = []\n",
    "            for i in range(self.front,self.rear):\n",
    "                value.append(self.queue[i])\n",
    "            \n",
    "            return value\n",
    "        else :\n",
    "            value = []\n",
    "            for i in range(self.front,self.maxsize):\n",
    "                value.append(self.queue[i])\n",
    "            \n",
    "            for i in range(0,self.rear):\n",
    "                value.append(self.queue[i])\n",
    "            \n",
    "            return value\n",
    "        \n",
    "    "
   ]
  },
  {
   "cell_type": "markdown",
   "metadata": {},
   "source": [
    "#### create 5x5 Grid world"
   ]
  },
  {
   "cell_type": "code",
   "execution_count": 4,
   "metadata": {
    "collapsed": true
   },
   "outputs": [],
   "source": [
    "win = GraphWin(\"My Window\", 600,600)\n",
    "win.setBackground(color_rgb(255,255,255))"
   ]
  },
  {
   "cell_type": "code",
   "execution_count": 5,
   "metadata": {
    "collapsed": true
   },
   "outputs": [],
   "source": [
    "def line(x1,y1,x2,y2):\n",
    "    \"\"\"\n",
    "    create a line between pt(x1,y1) and pt(x2,y2) and return it\n",
    "    \"\"\"\n",
    "    ln = Line(Point(x1,y1),Point(x2,y2))\n",
    "    ln.setOutline(color_rgb(0,0,0))\n",
    "    ln.setWidth(2)\n",
    "    \n",
    "    return ln"
   ]
  },
  {
   "cell_type": "code",
   "execution_count": 6,
   "metadata": {},
   "outputs": [
    {
     "data": {
      "text/plain": [
       "Rectangle(Point(150.0, 250.0), Point(250.0, 350.0))"
      ]
     },
     "execution_count": 6,
     "metadata": {},
     "output_type": "execute_result"
    }
   ],
   "source": [
    "#border lines\n",
    "border1 = line(50,50,550,50)\n",
    "border1.draw(win)\n",
    "\n",
    "border2 = line(550,50,550,550)\n",
    "border2.draw(win)\n",
    "\n",
    "border3 = line(50,550,550,550)\n",
    "border3.draw(win)\n",
    "\n",
    "border4 = line(50,50,50,550)\n",
    "border4.draw(win)\n",
    "\n",
    "#lines horizontal\n",
    "ln1 = line(50,150,550,150)\n",
    "ln1.draw(win)\n",
    "\n",
    "ln2 = line(50,250,550,250)\n",
    "ln2.draw(win)\n",
    "\n",
    "ln3 = line(50,350,550,350)\n",
    "ln3.draw(win)\n",
    "\n",
    "ln4 = line(50,450,550,450)\n",
    "ln4.draw(win)\n",
    "\n",
    "#lines vertical\n",
    "\n",
    "lnv1 = line(150,50,150,550)\n",
    "lnv1.draw(win)\n",
    "\n",
    "lnv2 = line(250,50,250,550)\n",
    "lnv2.draw(win)\n",
    "\n",
    "lnv3 = line(350,50,350,550)\n",
    "lnv3.draw(win)\n",
    "\n",
    "lnv4 = line(450,50,450,550)\n",
    "lnv4.draw(win)\n",
    "\n",
    "#create goal, obstacle and hole\n",
    "\n",
    "rect_goal = Rectangle(Point(450,50), Point(550,150))\n",
    "rect_goal.setFill(color_rgb(0,255,0))\n",
    "rect_goal.draw(win)\n",
    "\n",
    "rect_hole = Rectangle(Point(450,150), Point(550,250))\n",
    "rect_hole.setFill(color_rgb(255,0,0))\n",
    "rect_hole.draw(win)\n",
    "\n",
    "rect_obs1 = Rectangle(Point(150,350), Point(250,450))\n",
    "rect_obs1.setFill(color_rgb(0,0,0))\n",
    "rect_obs1.draw(win)\n",
    "\n",
    "rect_obs2 = Rectangle(Point(150,250), Point(250,350))\n",
    "rect_obs2.setFill(color_rgb(0,0,0))\n",
    "rect_obs2.draw(win)"
   ]
  },
  {
   "cell_type": "markdown",
   "metadata": {},
   "source": [
    "#### Create agent look like circle"
   ]
  },
  {
   "cell_type": "code",
   "execution_count": 7,
   "metadata": {},
   "outputs": [
    {
     "data": {
      "text/plain": [
       "Circle(Point(100.0, 500.0), 25)"
      ]
     },
     "execution_count": 7,
     "metadata": {},
     "output_type": "execute_result"
    }
   ],
   "source": [
    "agent = Circle(Point(100,500), 25)\n",
    "agent.setFill(color_rgb(0,0,255))\n",
    "agent.draw(win)"
   ]
  },
  {
   "cell_type": "code",
   "execution_count": 8,
   "metadata": {
    "collapsed": true
   },
   "outputs": [],
   "source": [
    "def up(agent):\n",
    "    val = agent.getCenter()\n",
    "    \n",
    "    if (val.getY()) == 100 or (val.getY() == 500 and val.getX() == 200) :\n",
    "        pass\n",
    "    else :\n",
    "        agent.move(0,-100)\n",
    "        \n",
    "    \n",
    "def down(agent):\n",
    "    val = agent.getCenter()\n",
    "    \n",
    "    if val.getY() == 500 or (val.getX() == 200 and val.getY() == 200):\n",
    "        pass\n",
    "    else :\n",
    "        agent.move(0,100)\n",
    "\n",
    "def right(agent):\n",
    "    val = agent.getCenter()\n",
    "    \n",
    "    if val.getX() == 500 or (val.getX() == 100 and (val.getY() == 300 or val.getY() == 400)):\n",
    "        pass\n",
    "    else :\n",
    "        agent.move(100,0)\n",
    "\n",
    "def left(agent):\n",
    "    val = agent.getCenter()\n",
    "    \n",
    "    if val.getX() == 100 or (val.getX() == 300 and (val.getY() == 300 or val.getY() == 400)):\n",
    "        pass\n",
    "    else:\n",
    "        agent.move(-100,0)\n",
    "        \n",
    "def action(agent,val):\n",
    "    if val == 0:\n",
    "        up(agent)\n",
    "    elif val == 1:\n",
    "        down(agent)\n",
    "    elif val == 2:\n",
    "        right(agent)\n",
    "    else :\n",
    "        left(agent)"
   ]
  },
  {
   "cell_type": "markdown",
   "metadata": {},
   "source": [
    "#### Reward for agent in the each state"
   ]
  },
  {
   "cell_type": "code",
   "execution_count": 9,
   "metadata": {
    "collapsed": true
   },
   "outputs": [],
   "source": [
    "reward = np.array([[-1,-1,-1,-1,-1],\n",
    "                   [-1,-20,-1,-1,-1],\n",
    "                   [-1,-20,-1,-1,-1],\n",
    "                   [-1,-1,-1,-1,-100],\n",
    "                   [-1,-1,-1,-1,100]])"
   ]
  },
  {
   "cell_type": "code",
   "execution_count": 10,
   "metadata": {
    "collapsed": true
   },
   "outputs": [],
   "source": [
    "def rewards(agent):\n",
    "    val = agent.getCenter()\n",
    "    i = int(val.getX() / 100) - 1\n",
    "    j = int((500 - val.getY()) / 100) \n",
    "    \n",
    "    \n",
    "    return reward[j][i]\n",
    "\n",
    "def observation(agent):\n",
    "    val = agent.getCenter()\n",
    "    i = int(val.getX() / 100) - 1\n",
    "    j = int((500 - val.getY()) / 100) \n",
    "    \n",
    "    return [i,j]\n",
    "\n",
    "def env_close():\n",
    "    win.close()\n",
    "\n",
    "def reset(agent):\n",
    "    agent.move(-400,400)\n",
    "\n",
    "def set_agent(agent,obs):\n",
    "    pos = agent.getCenter()\n",
    "    \n",
    "    pos = [pos.getX(), pos.getY()]\n",
    "    \n",
    "    refer_pos = [(obs[0]+1) * 100, (500 - (obs[1]*100))]\n",
    "    \n",
    "    \n",
    "    agent.move(refer_pos[0]-pos[0], refer_pos[1] - pos[1])"
   ]
  },
  {
   "cell_type": "markdown",
   "metadata": {},
   "source": [
    "#### Create the value function and policy"
   ]
  },
  {
   "cell_type": "code",
   "execution_count": 11,
   "metadata": {
    "collapsed": true
   },
   "outputs": [],
   "source": [
    "Q = np.zeros([5,5,4])\n",
    "E = np.zeros([5,5,4])"
   ]
  },
  {
   "cell_type": "code",
   "execution_count": 12,
   "metadata": {
    "collapsed": true
   },
   "outputs": [],
   "source": [
    "Q[4,4] = [100.,100.,100.,100.]"
   ]
  },
  {
   "cell_type": "markdown",
   "metadata": {},
   "source": [
    "#### Declare the variable"
   ]
  },
  {
   "cell_type": "code",
   "execution_count": 13,
   "metadata": {
    "collapsed": true
   },
   "outputs": [],
   "source": [
    "episode = 300\n",
    "max_episode_length = 150\n",
    "learning_rate = .01\n",
    "discount_factor = 0.9\n",
    "lambda_return = 0.7\n",
    "episode_without_ET = []"
   ]
  },
  {
   "cell_type": "markdown",
   "metadata": {},
   "source": [
    "#### Q Learning using Eligibility traces"
   ]
  },
  {
   "cell_type": "code",
   "execution_count": 166,
   "metadata": {
    "collapsed": true
   },
   "outputs": [],
   "source": [
    "Q = np.zeros([5,5,4])\n",
    "E = np.zeros([5,5,4])\n",
    "Q[4,4] = [100.,100.,100.,100.]\n",
    "episode_with_ET = []"
   ]
  },
  {
   "cell_type": "code",
   "execution_count": 167,
   "metadata": {},
   "outputs": [
    {
     "name": "stdout",
     "output_type": "stream",
     "text": [
      "--- 4.914014577865601 seconds ---\n"
     ]
    }
   ],
   "source": [
    "start_time = time.time()\n",
    "for j in range(episode):  \n",
    "    epsilon = 1 / (sqrt(j)+1)\n",
    "    \n",
    "    S = observation(agent)\n",
    "    A = np.argmax(Q[S[0],S[1]])\n",
    "    \n",
    "    for i in range(max_episode_length):\n",
    "        action(agent,A)\n",
    "        \n",
    "        R = rewards(agent)\n",
    "        \n",
    "        S_new = observation(agent)\n",
    "        \n",
    "        p = random.uniform(0,1)\n",
    "        \n",
    "        if p > epsilon:\n",
    "            A_new = np.argmax(Q[S_new[0],S_new[1]])\n",
    "        else :\n",
    "            A_new = np.random.choice([0,1,2,3])\n",
    "        \n",
    "        #add probability to each action\n",
    "        if A_new == 0:\n",
    "            A_new = np.random.choice([0,1,2,3],p=[0.8,0,0.1,0.1])\n",
    "        elif A_new == 1:\n",
    "            A_new = np.random.choice([0,1,2,3],p=[0,0.8,0.1,0.1])\n",
    "        elif A_new == 2:\n",
    "            A_new = np.random.choice([0,1,2,3],p=[0.1,0.1,0.8,0])\n",
    "        elif A_new == 3:\n",
    "            A_new = np.random.choice([0,1,2,3],p=[0.1,0.1,0, 0.8])\n",
    "            \n",
    "       \n",
    "        #temporal difference learning using eligiblity traces\n",
    "        \n",
    "        TD_error = R + (discount_factor * np.max(Q[S_new[0],S_new[1]])) - Q[S[0],S[1],A]\n",
    "        E[S[0],S[1],A] = E[S[0],S[1],A] + 1\n",
    "        \n",
    "        for x in range(5):\n",
    "            for y in range(5):\n",
    "                for z in range(4):\n",
    "                    Q[x,y,z] = Q[x,y,z] + (learning_rate * TD_error * E[x,y,z])\n",
    "                    E[x,y,z] = discount_factor * lambda_return * E[x,y,z] \n",
    " \n",
    "        S = S_new\n",
    "        A = A_new\n",
    "        \n",
    "        if (S[0] == 4) and (S[1] == 4):\n",
    "            reset(agent)\n",
    "            S = observation(agent)\n",
    "            A = np.argmax(Q[S[0],S[1]])\n",
    "            episode_with_ET.append(i)\n",
    "            E = np.zeros([5,5,4])\n",
    "            break\n",
    "            \n",
    "print(\"--- %s seconds ---\" % (time.time() - start_time))"
   ]
  },
  {
   "cell_type": "markdown",
   "metadata": {},
   "source": [
    "#### How much episode takes to win the game with Eligibility Trace"
   ]
  },
  {
   "cell_type": "code",
   "execution_count": 168,
   "metadata": {
    "collapsed": true
   },
   "outputs": [],
   "source": [
    "episode= 300\n",
    "max_episode_length = 150\n",
    "Q = np.zeros([5,5,4])\n",
    "Q[4,4] = [100.,100.,100.,100.]\n",
    "episode_with_diff_ET = []\n",
    "size = int(-2/log10(lambda_return))"
   ]
  },
  {
   "cell_type": "code",
   "execution_count": 169,
   "metadata": {},
   "outputs": [
    {
     "name": "stdout",
     "output_type": "stream",
     "text": [
      "--- 1.6722137928009033 seconds ---\n"
     ]
    }
   ],
   "source": [
    "start_time = time.time()\n",
    "for j in range(episode):  \n",
    "    epsilon = 1 / (sqrt(j)+1)\n",
    "    \n",
    "    set_agent(agent,[0,0])\n",
    "    S = observation(agent)\n",
    "    A = np.argmax(Q[S[0],S[1]])\n",
    "    \n",
    "    Backview = Queue(size)\n",
    "    \n",
    "    for i in range(max_episode_length):\n",
    "        action(agent,A)\n",
    "        \n",
    "        R = rewards(agent)\n",
    "        \n",
    "        S_new = observation(agent)\n",
    "        \n",
    "        p = random.uniform(0,1)\n",
    "        \n",
    "        if p > epsilon:\n",
    "            A_new = np.argmax(Q[S_new[0],S_new[1]])\n",
    "        else :\n",
    "            A_new = np.random.choice([0,1,2,3])\n",
    "        \n",
    "        #add probability to each action\n",
    "        if A_new == 0:\n",
    "            A_new = np.random.choice([0,1,2,3],p=[0.8,0,0.1,0.1])\n",
    "        elif A_new == 1:\n",
    "            A_new = np.random.choice([0,1,2,3],p=[0,0.8,0.1,0.1])\n",
    "        elif A_new == 2:\n",
    "            A_new = np.random.choice([0,1,2,3],p=[0.1,0.1,0.8,0])\n",
    "        elif A_new == 3:\n",
    "            A_new = np.random.choice([0,1,2,3],p=[0.1,0.1,0, 0.8])\n",
    "            \n",
    "       \n",
    "        #temporal difference learning using eligiblity traces\n",
    "        \n",
    "        TD_error = R + (discount_factor * np.max(Q[S_new[0],S_new[1]])) - Q[S[0],S[1],A]\n",
    "        \n",
    "        if Backview.full():\n",
    "            Backview.dequeue()\n",
    "            Backview.enqueue(Node(S[0],S[1],A))\n",
    "        else :\n",
    "            Backview.enqueue(Node(S[0],S[1],A))\n",
    "            \n",
    "        Transit = Backview.peak()\n",
    "        \n",
    "        Transit_length = len(Transit)\n",
    "        for k in range(len(Transit)):\n",
    "            s1 = Transit[k].x\n",
    "            s2 = Transit[k].y\n",
    "            a  = Transit[k].z\n",
    "            if Transit_length == (size -1):\n",
    "                Q[s1,s2,a] = Q[s1,s2,a] + ((learning_rate * TD_error)*((lambda_return)**(size-k-2)))\n",
    "            else :\n",
    "                Q[s1,s2,a] = Q[s1,s2,a] + ((learning_rate * TD_error)*((lambda_return)**(Transit_length-k-1)))\n",
    "       \n",
    "        \n",
    "        S = S_new\n",
    "        A = A_new\n",
    "        if (S[0] == 4) and (S[1] == 4):\n",
    "            set_agent(agent,[0,0])\n",
    "            S = observation(agent)\n",
    "            A = np.argmax(Q[S[0],S[1]])\n",
    "            episode_with_diff_ET.append(i)\n",
    "            break  \n",
    "\n",
    "print(\"--- %s seconds ---\" % (time.time() - start_time))"
   ]
  },
  {
   "cell_type": "markdown",
   "metadata": {},
   "source": [
    "#### Eligibility Traces using old algorithm"
   ]
  },
  {
   "cell_type": "code",
   "execution_count": 170,
   "metadata": {},
   "outputs": [
    {
     "data": {
      "image/png": "[encoded data removed]",
      "text/plain": [
       "<matplotlib.figure.Figure at 0x1aedd19eb8>"
      ]
     },
     "metadata": {},
     "output_type": "display_data"
    }
   ],
   "source": [
    "plt.plot(episode_with_ET)\n",
    "plt.show()"
   ]
  },
  {
   "cell_type": "markdown",
   "metadata": {},
   "source": [
    "#### Eligibility Trace using New algorithm"
   ]
  },
  {
   "cell_type": "code",
   "execution_count": 171,
   "metadata": {},
   "outputs": [
    {
     "data": {
      "image/png": "[encoded data removed]",
      "text/plain": [
       "<matplotlib.figure.Figure at 0x1aeb4908d0>"
      ]
     },
     "metadata": {},
     "output_type": "display_data"
    }
   ],
   "source": [
    "plt.plot(episode_with_diff_ET)\n",
    "plt.show()"
   ]
  },
  {
   "cell_type": "markdown",
   "metadata": {},
   "source": [
    "#### Time difference between two algorithm is old one takes 4.9s while New one takes 1.6s"
   ]
  },
  {
   "cell_type": "markdown",
   "metadata": {},
   "source": [
    "#### After 300 episode with maximum150 step in each episode using SARSAMAX and Eligibility Trace"
   ]
  },
  {
   "cell_type": "markdown",
   "metadata": {},
   "source": [
    "| right| right| right| right|  GOAL  |\n",
    "|------|------|------|------|--------|\n",
    "| right| right| right|  up  |   up   |\n",
    "|------|------|------|------|--------|\n",
    "|  up  |      |  up  |  up  |  left  |\n",
    "|------|------|------|------|--------|\n",
    "|  up  |      |  up  | left |  Down  |\n",
    "|------|------|------|------|--------|\n",
    "|  up  | right|  up  | left |  left  |"
   ]
  },
  {
   "cell_type": "code",
   "execution_count": 158,
   "metadata": {
    "collapsed": true
   },
   "outputs": [],
   "source": [
    "win.close()"
   ]
  },
  {
   "cell_type": "markdown",
   "metadata": {},
   "source": [
    "#### Compare both SARSA with Eligibility Trace and SARSA with Eligibility Traces implemented with new algorithm, both works similar."
   ]
  },
  {
   "cell_type": "code",
   "execution_count": null,
   "metadata": {
    "collapsed": true
   },
   "outputs": [],
   "source": []
  }
 ],
 "metadata": {
  "kernelspec": {
   "display_name": "Python 3",
   "language": "python",
   "name": "python3"
  },
  "language_info": {
   "codemirror_mode": {
    "name": "ipython",
    "version": 3
   },
   "file_extension": ".py",
   "mimetype": "text/x-python",
   "name": "python",
   "nbconvert_exporter": "python",
   "pygments_lexer": "ipython3",
   "version": "3.6.2"
  }
 },
 "nbformat": 4,
 "nbformat_minor": 2
}
