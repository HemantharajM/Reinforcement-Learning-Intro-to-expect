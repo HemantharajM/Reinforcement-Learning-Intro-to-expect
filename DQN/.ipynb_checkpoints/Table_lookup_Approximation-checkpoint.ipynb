{
 "cells": [
  {
   "cell_type": "markdown",
   "metadata": {},
   "source": [
    "#### How NN approximate Table Lookup value"
   ]
  },
  {
   "cell_type": "code",
   "execution_count": 1,
   "metadata": {},
   "outputs": [],
   "source": [
    "import numpy as np\n",
    "import tensorflow as tf\n",
    "import matplotlib.pyplot as plt"
   ]
  },
  {
   "cell_type": "markdown",
   "metadata": {},
   "source": [
    "#### evaluate constant table value loopup"
   ]
  },
  {
   "cell_type": "code",
   "execution_count": 2,
   "metadata": {},
   "outputs": [],
   "source": [
    "value = np.array([[21.5, 22.56, 26.9, 34.9, 36.25],\n",
    "                  [7.19,  0.,  0., 14.4, 45.42],\n",
    "                  [7.81, 8.44, 8.48, 24.0, 57.5],\n",
    "                  [0.6,  2.1, 3.1, 14.9,66.9],\n",
    "                  [-1.0, -5.4, -13.4, 57.9, 100]])"
   ]
  },
  {
   "cell_type": "code",
   "execution_count": 3,
   "metadata": {},
   "outputs": [],
   "source": [
    "feature = 2\n",
    "\n",
    "tf.reset_default_graph()"
   ]
  },
  {
   "cell_type": "markdown",
   "metadata": {},
   "source": [
    "#### Create placehold for input and output"
   ]
  },
  {
   "cell_type": "code",
   "execution_count": 4,
   "metadata": {},
   "outputs": [],
   "source": [
    "X = tf.placeholder(shape=[feature,None], dtype=tf.float32, name=\"Row_col\")\n",
    "Y = tf.placeholder(shape=[1,None], dtype=tf.float32, name=\"value\")"
   ]
  },
  {
   "cell_type": "markdown",
   "metadata": {},
   "source": [
    "#### initialize weight"
   ]
  },
  {
   "cell_type": "code",
   "execution_count": 5,
   "metadata": {},
   "outputs": [],
   "source": [
    "W1 = tf.get_variable(shape=[10,feature], initializer=tf.contrib.layers.xavier_initializer(seed = 1), dtype=tf.float32,name='weight_l1')\n",
    "B1 = tf.get_variable(shape=[10,1], initializer=tf.zeros_initializer(), dtype=tf.float32, name='bias_l1')\n",
    "\n",
    "W2 = tf.get_variable(shape=[4,10], initializer=tf.contrib.layers.xavier_initializer(seed = 2), dtype=tf.float32,name='weight_l2')\n",
    "B2 = tf.get_variable(shape=[4,1], initializer=tf.zeros_initializer(), dtype=tf.float32, name='bias_l2')\n",
    "\n",
    "W3 = tf.get_variable(shape=[1,4], initializer=tf.contrib.layers.xavier_initializer(seed = 3),dtype=tf.float32,name='weight_l3')\n",
    "B3 = tf.get_variable(shape=[1,1], initializer=tf.zeros_initializer(), dtype=tf.float32, name='bias_l3')"
   ]
  },
  {
   "cell_type": "markdown",
   "metadata": {},
   "source": [
    "#### Forward propagation"
   ]
  },
  {
   "cell_type": "code",
   "execution_count": 6,
   "metadata": {},
   "outputs": [],
   "source": [
    "Z1 = tf.matmul(W1,X) + B1\n",
    "A1 = tf.nn.relu(Z1, name='Layer_1')\n",
    "\n",
    "Z2 = tf.matmul(W2,A1) + B2\n",
    "A2 = tf.nn.relu(Z2, name='Layer_2')\n",
    "\n",
    "Z3 = tf.matmul(W3,A2) + B3"
   ]
  },
  {
   "cell_type": "markdown",
   "metadata": {},
   "source": [
    "#### initialize training parameter"
   ]
  },
  {
   "cell_type": "code",
   "execution_count": 14,
   "metadata": {},
   "outputs": [],
   "source": [
    "loss = tf.squared_difference(Z3,Y, name='loss')\n",
    "\n",
    "optimization = tf.train.AdamOptimizer(learning_rate=0.003).minimize(loss)\n",
    "\n",
    "init = tf.global_variables_initializer()"
   ]
  },
  {
   "cell_type": "code",
   "execution_count": 15,
   "metadata": {},
   "outputs": [],
   "source": [
    "epoch = 1000\n",
    "batch_size = 25\n",
    "iter_cost = []"
   ]
  },
  {
   "cell_type": "code",
   "execution_count": 16,
   "metadata": {},
   "outputs": [],
   "source": [
    "with tf.Session() as sess:\n",
    "    sess.run(init)\n",
    "    \n",
    "    for _ in range(epoch):\n",
    "        for j in range(batch_size):\n",
    "            row = np.random.choice([0,1,2,3,4])\n",
    "            col = np.random.choice([0,1,2,3,4])\n",
    "            \n",
    "            _,l = sess.run([optimization,loss], {X:np.array([row,col]).reshape([2,1]), Y:np.array(value[row,col]).reshape([1,1])})\n",
    "            \n",
    "            iter_cost.append(l)\n",
    "    \n",
    "    w_1 = W1.eval()\n",
    "    b_1 = B1.eval()\n",
    "    \n",
    "    w_2 = W2.eval()\n",
    "    b_2 = B2.eval()\n",
    "    \n",
    "    w_3 = W3.eval()\n",
    "    b_3 = B3.eval()"
   ]
  },
  {
   "cell_type": "code",
   "execution_count": 17,
   "metadata": {},
   "outputs": [
    {
     "data": {
      "text/plain": [
       "[<matplotlib.lines.Line2D at 0x7ff0490925f8>]"
      ]
     },
     "execution_count": 17,
     "metadata": {},
     "output_type": "execute_result"
    },
    {
     "data": {
      "image/png": "[encoded data removed]",
      "text/plain": [
       "<Figure size 432x288 with 1 Axes>"
      ]
     },
     "metadata": {},
     "output_type": "display_data"
    }
   ],
   "source": [
    "plt.plot(np.array(iter_cost).reshape([25000,1]))"
   ]
  },
  {
   "cell_type": "code",
   "execution_count": 18,
   "metadata": {},
   "outputs": [],
   "source": [
    "def relu(x):\n",
    "    return np.maximum(x,0)"
   ]
  },
  {
   "cell_type": "code",
   "execution_count": 19,
   "metadata": {},
   "outputs": [
    {
     "data": {
      "text/plain": [
       "array([0., 0., 1., 3.])"
      ]
     },
     "execution_count": 19,
     "metadata": {},
     "output_type": "execute_result"
    }
   ],
   "source": [
    "a = np.array([-.9,-5.0, 1,3])\n",
    "relu(a)"
   ]
  },
  {
   "cell_type": "code",
   "execution_count": 23,
   "metadata": {},
   "outputs": [],
   "source": [
    "approximate_value = np.zeros([5,5])\n",
    "\n",
    "for i in range(5):\n",
    "    for j in range(5):\n",
    "        x = np.array([i,j]).reshape([2,1])\n",
    "\n",
    "        z1 = np.matmul(w_1,x) + b_1\n",
    "        a1 = relu(z1)\n",
    "\n",
    "        z2 = np.matmul(w_2,a1) + b_2\n",
    "        a2 = relu(z2)\n",
    "\n",
    "        z3 = np.matmul(w_3,a2) + b_3\n",
    "    \n",
    "        approximate_value[i][j] = z3"
   ]
  },
  {
   "cell_type": "code",
   "execution_count": 24,
   "metadata": {},
   "outputs": [
    {
     "data": {
      "text/plain": [
       "array([[  7.56555986,  13.91561671,  21.61787215,  29.28654591,\n",
       "         39.49804251],\n",
       "       [  7.56555986,   5.41345374,  13.11570918,  20.81796462,\n",
       "         47.58084395],\n",
       "       [  7.56555986,   6.42820954,   4.61354621,  16.71467676,\n",
       "         52.31436841],\n",
       "       [  2.79340588,  -0.56941129,  -3.88861676,  21.44820122,\n",
       "         66.83377833],\n",
       "       [ -4.46046676,  -6.47504653, -11.95853521,  54.73317919,\n",
       "        100.8917264 ]])"
      ]
     },
     "execution_count": 24,
     "metadata": {},
     "output_type": "execute_result"
    }
   ],
   "source": [
    "approximate_value"
   ]
  },
  {
   "cell_type": "code",
   "execution_count": 25,
   "metadata": {},
   "outputs": [
    {
     "data": {
      "text/plain": [
       "array([[ 21.5 ,  22.56,  26.9 ,  34.9 ,  36.25],\n",
       "       [  7.19,   0.  ,   0.  ,  14.4 ,  45.42],\n",
       "       [  7.81,   8.44,   8.48,  24.  ,  57.5 ],\n",
       "       [  0.6 ,   2.1 ,   3.1 ,  14.9 ,  66.9 ],\n",
       "       [ -1.  ,  -5.4 , -13.4 ,  57.9 , 100.  ]])"
      ]
     },
     "execution_count": 25,
     "metadata": {},
     "output_type": "execute_result"
    }
   ],
   "source": [
    "value"
   ]
  },
  {
   "cell_type": "markdown",
   "metadata": {},
   "source": [
    "#### To learn the value in each cell it take 1000 iteration, that why experience replay is used to stablize the value"
   ]
  },
  {
   "cell_type": "code",
   "execution_count": null,
   "metadata": {},
   "outputs": [],
   "source": []
  }
 ],
 "metadata": {
  "kernelspec": {
   "display_name": "Python 3",
   "language": "python",
   "name": "python3"
  },
  "language_info": {
   "codemirror_mode": {
    "name": "ipython",
    "version": 3
   },
   "file_extension": ".py",
   "mimetype": "text/x-python",
   "name": "python",
   "nbconvert_exporter": "python",
   "pygments_lexer": "ipython3",
   "version": "3.6.6"
  }
 },
 "nbformat": 4,
 "nbformat_minor": 2
}
